{
 "cells": [
  {
   "cell_type": "code",
   "execution_count": 2,
   "metadata": {},
   "outputs": [],
   "source": [
    "import openpyxl\n",
    "from pathlib import Path"
   ]
  },
  {
   "cell_type": "code",
   "execution_count": 3,
   "metadata": {},
   "outputs": [],
   "source": [
    "def get_hyperlink():\n",
    "    #cwd = Path.cwd()\n",
    "    #excel_file = cwd / 'geography2' / 'downloads' / 'results_to_box' /  'cros' / 'ResultsList_cros_202207_1_138_Results list for_hlead(_water_ OR river_ OR lake OR dam OR stream OR tributary OR diversion OR irrig.xlsx'\n",
    "\n",
    "    #Open with full path\n",
    "    excelBook = openpyxl.load_workbook('/Users/selenawallace/Documents/Data_Science/geography2/downloads/results_to_box/cros/ResultsList_cros_202207_1_138_Results list for_hlead(_water_ OR river_ OR lake OR dam OR stream OR tributary OR diversion OR irrig.xlsx')\n",
    "\n",
    "    #Open with pathlib\n",
    "    #excelBook = openpyxl.load_workbook(excel_file)\n",
    "\n",
    "    excelSheet = excelBook['News']\n",
    "    \n",
    "    return excelSheet.cell(row=2, column=1).hyperlink.target"
   ]
  },
  {
   "cell_type": "code",
   "execution_count": 56,
   "metadata": {},
   "outputs": [
    {
     "name": "stdout",
     "output_type": "stream",
     "text": [
      "Hyperlink\n",
      "https://advance.lexis.com/api/document?collection=news&id=urn:contentItem:6BFW-TB91-DYTH-G0KM-00000-00&context=1516831&sourcegroupingtype=G\n",
      " \n"
     ]
    }
   ],
   "source": [
    "hyperlink = get_hyperlink()\n",
    "print(\"Hyperlink\")\n",
    "print(hyperlink)\n",
    "print(\" \")"
   ]
  },
  {
   "cell_type": "code",
   "execution_count": 4,
   "metadata": {},
   "outputs": [],
   "source": [
    "#so this gets the hyperlink in the row specified.\n",
    "#it might be useful to have a for loop somewhere, one of the idx ones\n",
    "excelBook = openpyxl.load_workbook('/Users/selenawallace/Documents/Data_Science/geography2/downloads/results_to_box/cros/ResultsList_cros_202207_1_138_Results list for_hlead(_water_ OR river_ OR lake OR dam OR stream OR tributary OR diversion OR irrig.xlsx')\n",
    "excelSheet = excelBook['News']\n",
    "links = []\n",
    "for idx in excelSheet[1]:\n",
    "    links.append(get_hyperlink())"
   ]
  },
  {
   "cell_type": "code",
   "execution_count": 5,
   "metadata": {},
   "outputs": [],
   "source": [
    "import pandas as pd"
   ]
  },
  {
   "cell_type": "code",
   "execution_count": 6,
   "metadata": {},
   "outputs": [
    {
     "ename": "TypeError",
     "evalue": "get_hyperlink() takes 0 positional arguments but 1 was given",
     "output_type": "error",
     "traceback": [
      "\u001b[0;31m---------------------------------------------------------------------------\u001b[0m",
      "\u001b[0;31mTypeError\u001b[0m                                 Traceback (most recent call last)",
      "Input \u001b[0;32mIn [6]\u001b[0m, in \u001b[0;36m<cell line: 5>\u001b[0;34m()\u001b[0m\n\u001b[1;32m      3\u001b[0m hyperlinks \u001b[38;5;241m=\u001b[39m []\n\u001b[1;32m      5\u001b[0m \u001b[38;5;28;01mfor\u001b[39;00m row \u001b[38;5;129;01min\u001b[39;00m \u001b[38;5;28mrange\u001b[39m(\u001b[38;5;241m2\u001b[39m, total_rows \u001b[38;5;241m+\u001b[39m \u001b[38;5;241m1\u001b[39m):  \u001b[38;5;66;03m# Assuming total_rows is the number of rows you want to check\u001b[39;00m\n\u001b[0;32m----> 6\u001b[0m     hyperlink \u001b[38;5;241m=\u001b[39m \u001b[43mget_hyperlink\u001b[49m\u001b[43m(\u001b[49m\u001b[43mrow\u001b[49m\u001b[43m)\u001b[49m\n\u001b[1;32m      7\u001b[0m     \u001b[38;5;28;01mif\u001b[39;00m hyperlink:  \u001b[38;5;66;03m# Only append if there is a hyperlink\u001b[39;00m\n\u001b[1;32m      8\u001b[0m         hyperlinks\u001b[38;5;241m.\u001b[39mappend(hyperlink)\n",
      "\u001b[0;31mTypeError\u001b[0m: get_hyperlink() takes 0 positional arguments but 1 was given"
     ]
    }
   ],
   "source": [
    "total_rows = excelSheet.max_row\n",
    "\n",
    "hyperlinks = []\n",
    "\n",
    "for row in range(2, total_rows + 1):  # Assuming total_rows is the number of rows you want to check\n",
    "    hyperlink = get_hyperlink(row)\n",
    "    if hyperlink:  # Only append if there is a hyperlink\n",
    "        hyperlinks.append(hyperlink)\n",
    "\n",
    "print(hyperlinks)"
   ]
  },
  {
   "cell_type": "markdown",
   "metadata": {},
   "source": [
    "some of the below is probably repeated but it's the more complete version, I think"
   ]
  },
  {
   "cell_type": "code",
   "execution_count": 7,
   "metadata": {},
   "outputs": [],
   "source": [
    "# Load the workbook and select the sheet\n",
    "workbook_path = '/Users/selenawallace/Documents/Data_Science/geography2/downloads/results_to_box/cros/ResultsList_cros_202207_1_138_Results list for_hlead(_water_ OR river_ OR lake OR dam OR stream OR tributary OR diversion OR irrig.xlsx'\n",
    "excelBook = openpyxl.load_workbook(workbook_path)\n",
    "excelSheet = excelBook['News']"
   ]
  },
  {
   "cell_type": "code",
   "execution_count": null,
   "metadata": {},
   "outputs": [],
   "source": [
    "#so the next thing I'll need to do is get "
   ]
  },
  {
   "cell_type": "code",
   "execution_count": 8,
   "metadata": {},
   "outputs": [],
   "source": [
    "import openpyxl\n",
    "import pandas as pd\n",
    "\n",
    "def get_hyperlink(idx):\n",
    "    # Open with full path\n",
    "    #excelBook = openpyxl.load_workbook('/Users/selenawallace/Documents/Data_Science/geography2/downloads/results_to_box/cros/ResultsList_cros_202207_1_138_Results list for_hlead(_water_ OR river_ OR lake OR dam OR stream OR tributary OR diversion OR irrig.xlsx')\n",
    "    \n",
    "    #excelSheet = excelBook['News']\n",
    "    \n",
    "    # Check if the cell has a hyperlink and return it\n",
    "    cell = excelSheet.cell(row=idx, column=1)\n",
    "    if cell.hyperlink:\n",
    "        return cell.hyperlink.target\n",
    "    else:\n",
    "        return None"
   ]
  },
  {
   "cell_type": "code",
   "execution_count": 9,
   "metadata": {},
   "outputs": [],
   "source": [
    "# Get the total number of rows in the sheet\n",
    "total_rows = excelSheet.max_row\n",
    "\n",
    "# Loop through all the rows in the first column and collect hyperlinks\n",
    "hyperlinks = []\n",
    "for row in range(2, total_rows + 1):  # Starting from row 2 to skip the header row\n",
    "    hyperlink = get_hyperlink(row)\n",
    "    if hyperlink:  # Only append if there is a hyperlink\n",
    "        hyperlinks.append(hyperlink)\n",
    "    else:\n",
    "        hyperlinks.append(None)  # Maintain list length consistency"
   ]
  },
  {
   "cell_type": "code",
   "execution_count": 10,
   "metadata": {},
   "outputs": [
    {
     "data": {
      "text/html": [
       "<div>\n",
       "<style scoped>\n",
       "    .dataframe tbody tr th:only-of-type {\n",
       "        vertical-align: middle;\n",
       "    }\n",
       "\n",
       "    .dataframe tbody tr th {\n",
       "        vertical-align: top;\n",
       "    }\n",
       "\n",
       "    .dataframe thead th {\n",
       "        text-align: right;\n",
       "    }\n",
       "</style>\n",
       "<table border=\"1\" class=\"dataframe\">\n",
       "  <thead>\n",
       "    <tr style=\"text-align: right;\">\n",
       "      <th></th>\n",
       "      <th>Headline</th>\n",
       "      <th>Publication</th>\n",
       "      <th>Summary</th>\n",
       "      <th>Date</th>\n",
       "    </tr>\n",
       "  </thead>\n",
       "  <tbody>\n",
       "    <tr>\n",
       "      <th>0</th>\n",
       "      <td>DANGEROUS BLIZZARD HEADS TO CALIFORNIA \" STEPS...</td>\n",
       "      <td>States News Service, 1261 words</td>\n",
       "      <td>NaN</td>\n",
       "      <td>2024-03-01</td>\n",
       "    </tr>\n",
       "    <tr>\n",
       "      <th>1</th>\n",
       "      <td>AECID will provide 250,000 euros in water and ...</td>\n",
       "      <td>CE Noticias Financieras English, 198 words</td>\n",
       "      <td>NaN</td>\n",
       "      <td>2024-03-01</td>\n",
       "    </tr>\n",
       "    <tr>\n",
       "      <th>2</th>\n",
       "      <td>Fixtures</td>\n",
       "      <td>Irish Examiner, SOCCER; Pg. 11, 87 words</td>\n",
       "      <td>NaN</td>\n",
       "      <td>2024-03-01</td>\n",
       "    </tr>\n",
       "    <tr>\n",
       "      <th>3</th>\n",
       "      <td>15 State Finance Commission (untied) 2023-24 I...</td>\n",
       "      <td>Mena Report, 92 words</td>\n",
       "      <td>NaN</td>\n",
       "      <td>2024-03-01</td>\n",
       "    </tr>\n",
       "    <tr>\n",
       "      <th>4</th>\n",
       "      <td>15 State Finance Commission (untied) 2023-24 I...</td>\n",
       "      <td>TendersInfo - Project Notices, 92 words</td>\n",
       "      <td>NaN</td>\n",
       "      <td>2024-03-01</td>\n",
       "    </tr>\n",
       "    <tr>\n",
       "      <th>...</th>\n",
       "      <td>...</td>\n",
       "      <td>...</td>\n",
       "      <td>...</td>\n",
       "      <td>...</td>\n",
       "    </tr>\n",
       "    <tr>\n",
       "      <th>133</th>\n",
       "      <td>FERC: Withdrawal of Staff Protest on Construct...</td>\n",
       "      <td>Targeted News Service, 381 words</td>\n",
       "      <td>NaN</td>\n",
       "      <td>2024-03-15</td>\n",
       "    </tr>\n",
       "    <tr>\n",
       "      <th>134</th>\n",
       "      <td>Insecurity: APC state chairmen tell Tinubu to ...</td>\n",
       "      <td>The Nation (Nigeria), 587 words</td>\n",
       "      <td>NaN</td>\n",
       "      <td>2024-03-15</td>\n",
       "    </tr>\n",
       "    <tr>\n",
       "      <th>135</th>\n",
       "      <td>Pensioners Call For Pension Commission In Akwa...</td>\n",
       "      <td>The lawmaker representing Yakurr 1 State const...</td>\n",
       "      <td>NaN</td>\n",
       "      <td>2024-03-15</td>\n",
       "    </tr>\n",
       "    <tr>\n",
       "      <th>136</th>\n",
       "      <td>EarlyBirds Enhances Cross Functional Collabora...</td>\n",
       "      <td>Financial Services Monitor Worldwide, 704 words</td>\n",
       "      <td>NaN</td>\n",
       "      <td>2024-03-15</td>\n",
       "    </tr>\n",
       "    <tr>\n",
       "      <th>137</th>\n",
       "      <td>Ashamed at pointing out parts of city to touri...</td>\n",
       "      <td>The Plymouth Herald, LETTERS; Pg. 14, 92 words</td>\n",
       "      <td>NaN</td>\n",
       "      <td>2024-03-15</td>\n",
       "    </tr>\n",
       "  </tbody>\n",
       "</table>\n",
       "<p>138 rows × 4 columns</p>\n",
       "</div>"
      ],
      "text/plain": [
       "                                              Headline  \\\n",
       "0    DANGEROUS BLIZZARD HEADS TO CALIFORNIA \" STEPS...   \n",
       "1    AECID will provide 250,000 euros in water and ...   \n",
       "2                                             Fixtures   \n",
       "3    15 State Finance Commission (untied) 2023-24 I...   \n",
       "4    15 State Finance Commission (untied) 2023-24 I...   \n",
       "..                                                 ...   \n",
       "133  FERC: Withdrawal of Staff Protest on Construct...   \n",
       "134  Insecurity: APC state chairmen tell Tinubu to ...   \n",
       "135  Pensioners Call For Pension Commission In Akwa...   \n",
       "136  EarlyBirds Enhances Cross Functional Collabora...   \n",
       "137  Ashamed at pointing out parts of city to touri...   \n",
       "\n",
       "                                           Publication  Summary       Date  \n",
       "0                      States News Service, 1261 words      NaN 2024-03-01  \n",
       "1           CE Noticias Financieras English, 198 words      NaN 2024-03-01  \n",
       "2             Irish Examiner, SOCCER; Pg. 11, 87 words      NaN 2024-03-01  \n",
       "3                                Mena Report, 92 words      NaN 2024-03-01  \n",
       "4              TendersInfo - Project Notices, 92 words      NaN 2024-03-01  \n",
       "..                                                 ...      ...        ...  \n",
       "133                   Targeted News Service, 381 words      NaN 2024-03-15  \n",
       "134                    The Nation (Nigeria), 587 words      NaN 2024-03-15  \n",
       "135  The lawmaker representing Yakurr 1 State const...      NaN 2024-03-15  \n",
       "136    Financial Services Monitor Worldwide, 704 words      NaN 2024-03-15  \n",
       "137     The Plymouth Herald, LETTERS; Pg. 14, 92 words      NaN 2024-03-15  \n",
       "\n",
       "[138 rows x 4 columns]"
      ]
     },
     "execution_count": 10,
     "metadata": {},
     "output_type": "execute_result"
    }
   ],
   "source": [
    "pd.read_excel(workbook_path)"
   ]
  },
  {
   "cell_type": "code",
   "execution_count": 11,
   "metadata": {},
   "outputs": [],
   "source": [
    "# Create a DataFrame from the hyperlinks list\n",
    "links_df = pd.DataFrame(hyperlinks, columns=['Hyperlinks'])\n",
    "sheet_df = pd.read_excel(workbook_path)"
   ]
  },
  {
   "cell_type": "code",
   "execution_count": 12,
   "metadata": {},
   "outputs": [],
   "source": [
    "if len(sheet_df) != len(links_df):\n",
    "    raise ValueError(\"The number of rows in the existing DataFrame does not match the number of hyperlinks.\")"
   ]
  },
  {
   "cell_type": "code",
   "execution_count": 13,
   "metadata": {},
   "outputs": [
    {
     "data": {
      "text/html": [
       "<div>\n",
       "<style scoped>\n",
       "    .dataframe tbody tr th:only-of-type {\n",
       "        vertical-align: middle;\n",
       "    }\n",
       "\n",
       "    .dataframe tbody tr th {\n",
       "        vertical-align: top;\n",
       "    }\n",
       "\n",
       "    .dataframe thead th {\n",
       "        text-align: right;\n",
       "    }\n",
       "</style>\n",
       "<table border=\"1\" class=\"dataframe\">\n",
       "  <thead>\n",
       "    <tr style=\"text-align: right;\">\n",
       "      <th></th>\n",
       "      <th>Headline</th>\n",
       "      <th>Publication</th>\n",
       "      <th>Summary</th>\n",
       "      <th>Date</th>\n",
       "      <th>Hyperlinks</th>\n",
       "    </tr>\n",
       "  </thead>\n",
       "  <tbody>\n",
       "    <tr>\n",
       "      <th>0</th>\n",
       "      <td>DANGEROUS BLIZZARD HEADS TO CALIFORNIA \" STEPS...</td>\n",
       "      <td>States News Service, 1261 words</td>\n",
       "      <td>NaN</td>\n",
       "      <td>2024-03-01</td>\n",
       "      <td>https://advance.lexis.com/api/document?collect...</td>\n",
       "    </tr>\n",
       "    <tr>\n",
       "      <th>1</th>\n",
       "      <td>AECID will provide 250,000 euros in water and ...</td>\n",
       "      <td>CE Noticias Financieras English, 198 words</td>\n",
       "      <td>NaN</td>\n",
       "      <td>2024-03-01</td>\n",
       "      <td>https://advance.lexis.com/api/document?collect...</td>\n",
       "    </tr>\n",
       "    <tr>\n",
       "      <th>2</th>\n",
       "      <td>Fixtures</td>\n",
       "      <td>Irish Examiner, SOCCER; Pg. 11, 87 words</td>\n",
       "      <td>NaN</td>\n",
       "      <td>2024-03-01</td>\n",
       "      <td>https://advance.lexis.com/api/document?collect...</td>\n",
       "    </tr>\n",
       "    <tr>\n",
       "      <th>3</th>\n",
       "      <td>15 State Finance Commission (untied) 2023-24 I...</td>\n",
       "      <td>Mena Report, 92 words</td>\n",
       "      <td>NaN</td>\n",
       "      <td>2024-03-01</td>\n",
       "      <td>https://advance.lexis.com/api/document?collect...</td>\n",
       "    </tr>\n",
       "    <tr>\n",
       "      <th>4</th>\n",
       "      <td>15 State Finance Commission (untied) 2023-24 I...</td>\n",
       "      <td>TendersInfo - Project Notices, 92 words</td>\n",
       "      <td>NaN</td>\n",
       "      <td>2024-03-01</td>\n",
       "      <td>https://advance.lexis.com/api/document?collect...</td>\n",
       "    </tr>\n",
       "  </tbody>\n",
       "</table>\n",
       "</div>"
      ],
      "text/plain": [
       "                                            Headline  \\\n",
       "0  DANGEROUS BLIZZARD HEADS TO CALIFORNIA \" STEPS...   \n",
       "1  AECID will provide 250,000 euros in water and ...   \n",
       "2                                           Fixtures   \n",
       "3  15 State Finance Commission (untied) 2023-24 I...   \n",
       "4  15 State Finance Commission (untied) 2023-24 I...   \n",
       "\n",
       "                                  Publication  Summary       Date  \\\n",
       "0             States News Service, 1261 words      NaN 2024-03-01   \n",
       "1  CE Noticias Financieras English, 198 words      NaN 2024-03-01   \n",
       "2    Irish Examiner, SOCCER; Pg. 11, 87 words      NaN 2024-03-01   \n",
       "3                       Mena Report, 92 words      NaN 2024-03-01   \n",
       "4     TendersInfo - Project Notices, 92 words      NaN 2024-03-01   \n",
       "\n",
       "                                          Hyperlinks  \n",
       "0  https://advance.lexis.com/api/document?collect...  \n",
       "1  https://advance.lexis.com/api/document?collect...  \n",
       "2  https://advance.lexis.com/api/document?collect...  \n",
       "3  https://advance.lexis.com/api/document?collect...  \n",
       "4  https://advance.lexis.com/api/document?collect...  "
      ]
     },
     "execution_count": 13,
     "metadata": {},
     "output_type": "execute_result"
    }
   ],
   "source": [
    "basin_df = pd.concat([sheet_df.reset_index(drop=True), links_df.reset_index(drop=True)], axis = 1)\n",
    "basin_df.head()"
   ]
  },
  {
   "cell_type": "code",
   "execution_count": 14,
   "metadata": {},
   "outputs": [],
   "source": [
    "basin_df.to_excel('/Users/selenawallace/Documents/Data_Science/geography2/downloads/results_to_box/cros/test_cros.xlsx')"
   ]
  }
 ],
 "metadata": {
  "kernelspec": {
   "display_name": "ds_env2",
   "language": "python",
   "name": "python3"
  },
  "language_info": {
   "codemirror_mode": {
    "name": "ipython",
    "version": 3
   },
   "file_extension": ".py",
   "mimetype": "text/x-python",
   "name": "python",
   "nbconvert_exporter": "python",
   "pygments_lexer": "ipython3",
   "version": "3.10.13"
  }
 },
 "nbformat": 4,
 "nbformat_minor": 2
}
