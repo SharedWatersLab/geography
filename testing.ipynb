{
 "cells": [
  {
   "cell_type": "code",
   "execution_count": 1,
   "metadata": {},
   "outputs": [
    {
     "name": "stdout",
     "output_type": "stream",
     "text": [
      "starting excel process for peter\n",
      "gron/excel folder already exists\n"
     ]
    },
    {
     "ename": "UnboundLocalError",
     "evalue": "local variable 'driver' referenced before assignment",
     "output_type": "error",
     "traceback": [
      "\u001b[0;31m---------------------------------------------------------------------------\u001b[0m",
      "\u001b[0;31mUnboundLocalError\u001b[0m                         Traceback (most recent call last)",
      "Cell \u001b[0;32mIn[1], line 1\u001b[0m\n\u001b[0;32m----> 1\u001b[0m \u001b[38;5;28;01mfrom\u001b[39;00m \u001b[38;5;21;01mgeography\u001b[39;00m\u001b[38;5;21;01m.\u001b[39;00m\u001b[38;5;21;01mFullProcess\u001b[39;00m \u001b[38;5;28;01mimport\u001b[39;00m FullProcess\n\u001b[1;32m      3\u001b[0m FullProcess()\n",
      "File \u001b[0;32m~/Desktop/geography/geography/FullProcess.py:110\u001b[0m\n\u001b[1;32m    108\u001b[0m     \u001b[38;5;28;01mbreak\u001b[39;00m\n\u001b[1;32m    109\u001b[0m \u001b[38;5;28;01melse\u001b[39;00m:\n\u001b[0;32m--> 110\u001b[0m     \u001b[43mFullProcess\u001b[49m\u001b[43m(\u001b[49m\u001b[43m)\u001b[49m\n",
      "File \u001b[0;32m~/Desktop/geography/geography/FullProcess.py:77\u001b[0m, in \u001b[0;36mFullProcess\u001b[0;34m()\u001b[0m\n\u001b[1;32m     74\u001b[0m     login\u001b[38;5;241m.\u001b[39m_init_login()\n\u001b[1;32m     76\u001b[0m time\u001b[38;5;241m.\u001b[39msleep(\u001b[38;5;241m5\u001b[39m)\n\u001b[0;32m---> 77\u001b[0m nlc \u001b[38;5;241m=\u001b[39m NoLinkClass(\u001b[43mdriver\u001b[49m, basin_code, download_type, base_path)\n\u001b[1;32m     78\u001b[0m nlc\u001b[38;5;241m.\u001b[39m_search_process()\n\u001b[1;32m     79\u001b[0m time\u001b[38;5;241m.\u001b[39msleep(\u001b[38;5;241m10\u001b[39m)\n",
      "\u001b[0;31mUnboundLocalError\u001b[0m: local variable 'driver' referenced before assignment"
     ]
    }
   ],
   "source": [
    "from geography.FullProcess import FullProcess\n",
    "\n",
    "FullProcess()"
   ]
  },
  {
   "cell_type": "markdown",
   "metadata": {},
   "source": [
    "# Tests"
   ]
  },
  {
   "cell_type": "code",
   "execution_count": 1,
   "metadata": {},
   "outputs": [],
   "source": [
    "from geography.classes.UserClass import UserClass"
   ]
  },
  {
   "cell_type": "code",
   "execution_count": 2,
   "metadata": {},
   "outputs": [],
   "source": [
    "from geography.classes.LoginClass import PasswordManager, WebDriverManager, Login"
   ]
  },
  {
   "cell_type": "code",
   "execution_count": 3,
   "metadata": {},
   "outputs": [],
   "source": [
    "from geography.classes.NoLinkClass import NoLinkClass"
   ]
  },
  {
   "cell_type": "code",
   "execution_count": 4,
   "metadata": {},
   "outputs": [],
   "source": [
    "from geography.classes.DownloadClass import Download"
   ]
  },
  {
   "cell_type": "code",
   "execution_count": 5,
   "metadata": {},
   "outputs": [],
   "source": [
    "basin_code = \"gron\"\n",
    "master_user = \"peter\"\n",
    "download_type = \"excel\""
   ]
  },
  {
   "cell_type": "code",
   "execution_count": 6,
   "metadata": {},
   "outputs": [],
   "source": [
    "currentUser = UserClass(basin_code, master_user, download_type)"
   ]
  },
  {
   "cell_type": "code",
   "execution_count": 7,
   "metadata": {},
   "outputs": [
    {
     "name": "stdout",
     "output_type": "stream",
     "text": [
      "starting excel process for peter\n"
     ]
    }
   ],
   "source": [
    "currentUser.getName() # just printing this line..."
   ]
  },
  {
   "cell_type": "code",
   "execution_count": 8,
   "metadata": {},
   "outputs": [
    {
     "data": {
      "text/plain": [
       "{'base_path': '/Users/pnadel01',\n",
       " 'user_name': 'pnadel01',\n",
       " 'geography_folder': './',\n",
       " 'download_folder_temp': '/Users/pnadel01/Downloads/',\n",
       " 'download_folder': './data/statusgron/excel/',\n",
       " 'status_file': './data/status/excel/gron.csv'}"
      ]
     },
     "execution_count": 8,
     "metadata": {},
     "output_type": "execute_result"
    }
   ],
   "source": [
    "paths = currentUser.getPath(download_type) # returns paths as dicts\n",
    "paths"
   ]
  },
  {
   "cell_type": "code",
   "execution_count": 9,
   "metadata": {},
   "outputs": [
    {
     "name": "stdout",
     "output_type": "stream",
     "text": [
      "base_path:  True\n",
      "user_name:  False\n",
      "geography_folder:  True\n",
      "download_folder_temp:  True\n",
      "download_folder:  True\n",
      "status_file:  True\n"
     ]
    }
   ],
   "source": [
    "import os\n",
    "for k, v in paths.items():\n",
    "    print(f\"{k}: \", os.path.exists(v)) # check if the path exists"
   ]
  },
  {
   "cell_type": "code",
   "execution_count": 10,
   "metadata": {},
   "outputs": [],
   "source": [
    "base_path = paths['base_path']\n",
    "user_name = paths[\"user_name\"]\n",
    "geography_folder = paths[\"geography_folder\"]\n",
    "download_folder_temp = paths[\"download_folder_temp\"]\n",
    "download_folder = paths[\"download_folder\"]\n",
    "status_file = paths[\"status_file\"]"
   ]
  },
  {
   "cell_type": "code",
   "execution_count": 11,
   "metadata": {},
   "outputs": [
    {
     "name": "stdout",
     "output_type": "stream",
     "text": [
      "gron/excel folder already exists\n"
     ]
    }
   ],
   "source": [
    "if os.path.exists(download_folder):\n",
    "    print(f\"{basin_code}/{download_type} folder already exists\")\n",
    "else:\n",
    "    os.makedirs(download_folder, exist_ok=True) # this isn't exactly right is it? - Yes, I added exists_ok=True to avoid errors if the folder already exists\n",
    "    print(f\"created folder {basin_code}/{download_type}\")"
   ]
  },
  {
   "cell_type": "code",
   "execution_count": 12,
   "metadata": {},
   "outputs": [],
   "source": [
    "pm = PasswordManager()"
   ]
  },
  {
   "cell_type": "code",
   "execution_count": 13,
   "metadata": {},
   "outputs": [
    {
     "name": "stdout",
     "output_type": "stream",
     "text": [
      "No password found, please enter your password\n",
      "Password saved successfully\n"
     ]
    }
   ],
   "source": [
    "if not pm.password:\n",
    "    print(\"No password found, please enter your password\")\n",
    "    pm.get_password()\n",
    "    print(\"Password saved successfully\")"
   ]
  },
  {
   "cell_type": "code",
   "execution_count": 14,
   "metadata": {},
   "outputs": [],
   "source": [
    "manager = WebDriverManager()"
   ]
  },
  {
   "cell_type": "code",
   "execution_count": 15,
   "metadata": {},
   "outputs": [],
   "source": [
    "options = manager.setup_options() # not using this"
   ]
  },
  {
   "cell_type": "markdown",
   "metadata": {},
   "source": []
  },
  {
   "cell_type": "code",
   "execution_count": 16,
   "metadata": {},
   "outputs": [],
   "source": [
    "driver = manager.start_driver()"
   ]
  },
  {
   "cell_type": "code",
   "execution_count": 17,
   "metadata": {},
   "outputs": [],
   "source": [
    "password = pm.password\n",
    "login = Login(user_name=user_name, password=password, driver_manager=manager, url=None)"
   ]
  },
  {
   "cell_type": "code",
   "execution_count": 18,
   "metadata": {},
   "outputs": [
    {
     "name": "stdout",
     "output_type": "stream",
     "text": [
      "User is already logged in.\n"
     ]
    }
   ],
   "source": [
    "login._init_login()"
   ]
  },
  {
   "cell_type": "code",
   "execution_count": 19,
   "metadata": {},
   "outputs": [],
   "source": [
    "nlc = NoLinkClass(driver, basin_code, download_type, currentUser) \n",
    "# first main issue: Documents is hard coded, should be passed paths dict"
   ]
  },
  {
   "cell_type": "code",
   "execution_count": 20,
   "metadata": {},
   "outputs": [
    {
     "name": "stdout",
     "output_type": "stream",
     "text": [
      "already on Nexis Uni home page\n",
      "Initializing search for gron\n",
      "clicked search, on results page\n"
     ]
    }
   ],
   "source": [
    "nlc._search_process()"
   ]
  },
  {
   "cell_type": "code",
   "execution_count": 21,
   "metadata": {},
   "outputs": [],
   "source": [
    "download = Download(\n",
    "    driver=driver,\n",
    "    basin_code=basin_code,\n",
    "    user_name=user_name,\n",
    "    index=0,  \n",
    "    login = login,\n",
    "    nlc = nlc,\n",
    "    download_folder = download_folder,\n",
    "    download_folder_temp = download_folder_temp,\n",
    "    status_file=status_file,\n",
    "    finished=False,  \n",
    "    url=None,  \n",
    "    timeout=20  \n",
    ")"
   ]
  },
  {
   "cell_type": "code",
   "execution_count": 22,
   "metadata": {},
   "outputs": [
    {
     "name": "stdout",
     "output_type": "stream",
     "text": [
      "Download for gron\n",
      "group duplicate results by moderate similarity\n",
      "No popup found\n",
      "Selected 'Date (oldest-newest)' option\n",
      "Proceeding to download basin gron row 298\n",
      "Setting the date range from 05/31/2015 to 06/06/2015\n"
     ]
    },
    {
     "ename": "KeyboardInterrupt",
     "evalue": "",
     "output_type": "error",
     "traceback": [
      "\u001b[0;31m---------------------------------------------------------------------------\u001b[0m",
      "\u001b[0;31mKeyboardInterrupt\u001b[0m                         Traceback (most recent call last)",
      "Cell \u001b[0;32mIn[22], line 1\u001b[0m\n\u001b[0;32m----> 1\u001b[0m \u001b[43mdownload\u001b[49m\u001b[38;5;241;43m.\u001b[39;49m\u001b[43mmain\u001b[49m\u001b[43m(\u001b[49m\u001b[43mindex\u001b[49m\u001b[38;5;241;43m=\u001b[39;49m\u001b[38;5;241;43m0\u001b[39;49m\u001b[43m,\u001b[49m\u001b[43m \u001b[49m\u001b[43mbasin_code\u001b[49m\u001b[43m \u001b[49m\u001b[38;5;241;43m=\u001b[39;49m\u001b[43m \u001b[49m\u001b[43mbasin_code\u001b[49m\u001b[43m)\u001b[49m\n",
      "File \u001b[0;32m~/Desktop/geography/geography/classes/DownloadClass.py:566\u001b[0m, in \u001b[0;36mDownload.main\u001b[0;34m(self, index, basin_code)\u001b[0m\n\u001b[1;32m    564\u001b[0m     time\u001b[38;5;241m.\u001b[39msleep(\u001b[38;5;241m1\u001b[39m)\n\u001b[1;32m    565\u001b[0m     \u001b[38;5;28mself\u001b[39m\u001b[38;5;241m.\u001b[39mcurrent_row \u001b[38;5;241m=\u001b[39m row\n\u001b[0;32m--> 566\u001b[0m     \u001b[38;5;28;43mself\u001b[39;49m\u001b[38;5;241;43m.\u001b[39;49m\u001b[43mDownloadProcess\u001b[49m\u001b[43m(\u001b[49m\u001b[43mrow_index\u001b[49m\u001b[43m)\u001b[49m\n\u001b[1;32m    567\u001b[0m     row_index \u001b[38;5;241m+\u001b[39m\u001b[38;5;241m=\u001b[39m \u001b[38;5;241m1\u001b[39m  \u001b[38;5;66;03m# Move to next row only if successful\u001b[39;00m\n\u001b[1;32m    568\u001b[0m \u001b[38;5;28;01mexcept\u001b[39;00m SkipRowException:    \n",
      "File \u001b[0;32m~/Desktop/geography/geography/classes/DownloadClass.py:530\u001b[0m, in \u001b[0;36mDownload.DownloadProcess\u001b[0;34m(self, index)\u001b[0m\n\u001b[1;32m    529\u001b[0m \u001b[38;5;28;01mdef\u001b[39;00m \u001b[38;5;21mDownloadProcess\u001b[39m(\u001b[38;5;28mself\u001b[39m, index):\n\u001b[0;32m--> 530\u001b[0m     \u001b[38;5;28;43mself\u001b[39;49m\u001b[38;5;241;43m.\u001b[39;49m\u001b[43mDateFilter\u001b[49m\u001b[43m(\u001b[49m\u001b[43mindex\u001b[49m\u001b[43m)\u001b[49m\n\u001b[1;32m    531\u001b[0m     \u001b[38;5;28;01mtry\u001b[39;00m:\n\u001b[1;32m    532\u001b[0m         \u001b[38;5;28mself\u001b[39m\u001b[38;5;241m.\u001b[39mDownloadOptions(index) \u001b[38;5;66;03m# i had these indented too... the logic was that these don't need to happen if reset\u001b[39;00m\n",
      "File \u001b[0;32m~/Desktop/geography/geography/classes/DownloadClass.py:376\u001b[0m, in \u001b[0;36mDownload.DateFilter\u001b[0;34m(self, index)\u001b[0m\n\u001b[1;32m    375\u001b[0m \u001b[38;5;28;01mdef\u001b[39;00m \u001b[38;5;21mDateFilter\u001b[39m(\u001b[38;5;28mself\u001b[39m, index):\n\u001b[0;32m--> 376\u001b[0m     \u001b[38;5;28;43mself\u001b[39;49m\u001b[38;5;241;43m.\u001b[39;49m\u001b[43mset_date_range\u001b[49m\u001b[43m(\u001b[49m\u001b[43mindex\u001b[49m\u001b[43m)\u001b[49m\n\u001b[1;32m    377\u001b[0m     \u001b[38;5;28;01mtry\u001b[39;00m:\n\u001b[1;32m    378\u001b[0m         \u001b[38;5;28mself\u001b[39m\u001b[38;5;241m.\u001b[39mget_result_count(index)\n",
      "File \u001b[0;32m~/Desktop/geography/geography/classes/DownloadClass.py:148\u001b[0m, in \u001b[0;36mDownload.set_date_range\u001b[0;34m(self, index)\u001b[0m\n\u001b[1;32m    146\u001b[0m timeline_reset_button \u001b[38;5;241m=\u001b[39m \u001b[38;5;124m'\u001b[39m\u001b[38;5;124m#sidebar > div.search-controls > div.filter-container.filterpanel-target > ul > li:nth-child(2) > button > span\u001b[39m\u001b[38;5;124m'\u001b[39m\n\u001b[1;32m    147\u001b[0m \u001b[38;5;28;01mtry\u001b[39;00m:\n\u001b[0;32m--> 148\u001b[0m     \u001b[38;5;28;43mself\u001b[39;49m\u001b[38;5;241;43m.\u001b[39;49m\u001b[43m_click_from_css\u001b[49m\u001b[43m(\u001b[49m\u001b[43mtimeline_reset_button\u001b[49m\u001b[43m)\u001b[49m\n\u001b[1;32m    149\u001b[0m     \u001b[38;5;28mprint\u001b[39m(\u001b[38;5;124m\"\u001b[39m\u001b[38;5;124mCleared previous timeline filter\u001b[39m\u001b[38;5;124m\"\u001b[39m)\n\u001b[1;32m    150\u001b[0m     time\u001b[38;5;241m.\u001b[39msleep(\u001b[38;5;241m10\u001b[39m)\n",
      "File \u001b[0;32m~/Desktop/geography/geography/classes/DownloadClass.py:78\u001b[0m, in \u001b[0;36mDownload._click_from_css\u001b[0;34m(self, css_selector)\u001b[0m\n\u001b[1;32m     76\u001b[0m \u001b[38;5;28;01mdef\u001b[39;00m \u001b[38;5;21m_click_from_css\u001b[39m(\u001b[38;5;28mself\u001b[39m, css_selector):\n\u001b[1;32m     77\u001b[0m     \u001b[38;5;28;01mtry\u001b[39;00m:\n\u001b[0;32m---> 78\u001b[0m         element \u001b[38;5;241m=\u001b[39m \u001b[43mWebDriverWait\u001b[49m\u001b[43m(\u001b[49m\u001b[38;5;28;43mself\u001b[39;49m\u001b[38;5;241;43m.\u001b[39;49m\u001b[43mdriver\u001b[49m\u001b[43m,\u001b[49m\u001b[43m \u001b[49m\u001b[38;5;28;43mself\u001b[39;49m\u001b[38;5;241;43m.\u001b[39;49m\u001b[43mtimeout\u001b[49m\u001b[43m)\u001b[49m\u001b[38;5;241;43m.\u001b[39;49m\u001b[43muntil\u001b[49m\u001b[43m(\u001b[49m\n\u001b[1;32m     79\u001b[0m \u001b[43m            \u001b[49m\u001b[43mEC\u001b[49m\u001b[38;5;241;43m.\u001b[39;49m\u001b[43melement_to_be_clickable\u001b[49m\u001b[43m(\u001b[49m\u001b[43m(\u001b[49m\u001b[43mBy\u001b[49m\u001b[38;5;241;43m.\u001b[39;49m\u001b[43mCSS_SELECTOR\u001b[49m\u001b[43m,\u001b[49m\u001b[43m \u001b[49m\u001b[43mcss_selector\u001b[49m\u001b[43m)\u001b[49m\u001b[43m)\u001b[49m\n\u001b[1;32m     80\u001b[0m \u001b[43m        \u001b[49m\u001b[43m)\u001b[49m\n\u001b[1;32m     81\u001b[0m         element\u001b[38;5;241m.\u001b[39mclick()\n\u001b[1;32m     82\u001b[0m     \u001b[38;5;28;01mexcept\u001b[39;00m TimeoutException:\n",
      "File \u001b[0;32m~/Desktop/geography/venv/lib/python3.9/site-packages/selenium/webdriver/support/wait.py:102\u001b[0m, in \u001b[0;36mWebDriverWait.until\u001b[0;34m(self, method, message)\u001b[0m\n\u001b[1;32m    100\u001b[0m     screen \u001b[38;5;241m=\u001b[39m \u001b[38;5;28mgetattr\u001b[39m(exc, \u001b[38;5;124m\"\u001b[39m\u001b[38;5;124mscreen\u001b[39m\u001b[38;5;124m\"\u001b[39m, \u001b[38;5;28;01mNone\u001b[39;00m)\n\u001b[1;32m    101\u001b[0m     stacktrace \u001b[38;5;241m=\u001b[39m \u001b[38;5;28mgetattr\u001b[39m(exc, \u001b[38;5;124m\"\u001b[39m\u001b[38;5;124mstacktrace\u001b[39m\u001b[38;5;124m\"\u001b[39m, \u001b[38;5;28;01mNone\u001b[39;00m)\n\u001b[0;32m--> 102\u001b[0m \u001b[43mtime\u001b[49m\u001b[38;5;241;43m.\u001b[39;49m\u001b[43msleep\u001b[49m\u001b[43m(\u001b[49m\u001b[38;5;28;43mself\u001b[39;49m\u001b[38;5;241;43m.\u001b[39;49m\u001b[43m_poll\u001b[49m\u001b[43m)\u001b[49m\n\u001b[1;32m    103\u001b[0m \u001b[38;5;28;01mif\u001b[39;00m time\u001b[38;5;241m.\u001b[39mmonotonic() \u001b[38;5;241m>\u001b[39m end_time:\n\u001b[1;32m    104\u001b[0m     \u001b[38;5;28;01mbreak\u001b[39;00m\n",
      "\u001b[0;31mKeyboardInterrupt\u001b[0m: "
     ]
    }
   ],
   "source": [
    "download.main(index=0, basin_code = basin_code)"
   ]
  },
  {
   "cell_type": "markdown",
   "metadata": {},
   "source": [
    "# Functional"
   ]
  },
  {
   "cell_type": "code",
   "execution_count": 1,
   "metadata": {},
   "outputs": [],
   "source": [
    "from geography.classes.UserClass import UserClass\n",
    "from geography.classes.LoginClass import PasswordManager, WebDriverManager, Login\n",
    "from geography.classes.NoLinkClass import NoLinkClass\n",
    "from geography.classes.DownloadClass import Download\n",
    "\n",
    "def get_user(basin, uname, dload_type):\n",
    "    basin_code = basin\n",
    "    master_user = uname\n",
    "    download_type = dload_type\n",
    "\n",
    "    currentUser = UserClass(basin_code, master_user, download_type)\n",
    "    paths = currentUser.getPath(download_type)\n",
    "    return paths, currentUser\n",
    "\n",
    "def full_process(current_user):\n",
    "    if os.path.exists(current_user.download_folder):\n",
    "        print(f\"{currentUser.basin}/{download_type} folder already exists\")\n",
    "    else:\n",
    "        os.makedirs(current_user.download_folder, exist_ok=True)\n",
    "        print(f\"created folder {currentUser.basin}/{download_type}\")\n",
    "    \n",
    "    pm = PasswordManager()\n",
    "    if not pm.password:\n",
    "        print(\"No password found, please enter your password\")\n",
    "        password = pm.get_password()\n",
    "        print(\"Password saved successfully\")\n",
    "    \n",
    "    manager = WebDriverManager()\n",
    "    driver = manager.start_driver()\n",
    "\n",
    "    login = Login(user_name=current_user.currentUser, password=password, driver_manager=manager, url=None)\n",
    "    login._init_login()\n",
    "\n",
    "    nlc = NoLinkClass(driver, current_user.basin, download_type, current_user)\n",
    "    nlc._search_process()\n",
    "\n",
    "    download = Download(\n",
    "        driver=driver,\n",
    "        basin_code=currentUser.basin,\n",
    "        user_name=current_user.download_folder,\n",
    "        index=0,\n",
    "        login=login,\n",
    "        nlc=nlc,\n",
    "        download_folder=current_user.download_folder,\n",
    "        download_folder_temp=current_user.download_folder_temp,\n",
    "        status_file=current_user.status_file,\n",
    "        finished=False,\n",
    "        url=None,\n",
    "        timeout=20\n",
    "    )\n",
    "    download.main(index=0, basin_code=currentUser.basin)"
   ]
  },
  {
   "cell_type": "code",
   "execution_count": 2,
   "metadata": {},
   "outputs": [
    {
     "name": "stdout",
     "output_type": "stream",
     "text": [
      "gron/excel folder already exists\n",
      "No password found, please enter your password\n",
      "Password saved successfully\n",
      "User is already logged in.\n",
      "already on Nexis Uni home page\n",
      "Initializing search for gron\n",
      "clicked search, on results page\n"
     ]
    },
    {
     "ename": "NameError",
     "evalue": "name 'user_name' is not defined",
     "output_type": "error",
     "traceback": [
      "\u001b[0;31m---------------------------------------------------------------------------\u001b[0m",
      "\u001b[0;31mNameError\u001b[0m                                 Traceback (most recent call last)",
      "Cell \u001b[0;32mIn[2], line 19\u001b[0m\n\u001b[1;32m     17\u001b[0m     \u001b[38;5;28;01mbreak\u001b[39;00m\n\u001b[1;32m     18\u001b[0m \u001b[38;5;28;01melse\u001b[39;00m:\n\u001b[0;32m---> 19\u001b[0m     \u001b[43mfull_process\u001b[49m\u001b[43m(\u001b[49m\u001b[43mcurrent_user\u001b[49m\u001b[43m)\u001b[49m\n",
      "Cell \u001b[0;32mIn[1], line 40\u001b[0m, in \u001b[0;36mfull_process\u001b[0;34m(current_user)\u001b[0m\n\u001b[1;32m     34\u001b[0m nlc \u001b[38;5;241m=\u001b[39m NoLinkClass(driver, basin_code, download_type, current_user)\n\u001b[1;32m     35\u001b[0m nlc\u001b[38;5;241m.\u001b[39m_search_process()\n\u001b[1;32m     37\u001b[0m download \u001b[38;5;241m=\u001b[39m Download(\n\u001b[1;32m     38\u001b[0m     driver\u001b[38;5;241m=\u001b[39mdriver,\n\u001b[1;32m     39\u001b[0m     basin_code\u001b[38;5;241m=\u001b[39mbasin_code,\n\u001b[0;32m---> 40\u001b[0m     user_name\u001b[38;5;241m=\u001b[39m\u001b[43muser_name\u001b[49m,\n\u001b[1;32m     41\u001b[0m     index\u001b[38;5;241m=\u001b[39m\u001b[38;5;241m0\u001b[39m,\n\u001b[1;32m     42\u001b[0m     login\u001b[38;5;241m=\u001b[39mlogin,\n\u001b[1;32m     43\u001b[0m     nlc\u001b[38;5;241m=\u001b[39mnlc,\n\u001b[1;32m     44\u001b[0m     download_folder\u001b[38;5;241m=\u001b[39mcurrent_user\u001b[38;5;241m.\u001b[39mdownload_folder,\n\u001b[1;32m     45\u001b[0m     download_folder_temp\u001b[38;5;241m=\u001b[39mdownload_folder_temp,\n\u001b[1;32m     46\u001b[0m     status_file\u001b[38;5;241m=\u001b[39mstatus_file,\n\u001b[1;32m     47\u001b[0m     finished\u001b[38;5;241m=\u001b[39m\u001b[38;5;28;01mFalse\u001b[39;00m,\n\u001b[1;32m     48\u001b[0m     url\u001b[38;5;241m=\u001b[39m\u001b[38;5;28;01mNone\u001b[39;00m,\n\u001b[1;32m     49\u001b[0m     timeout\u001b[38;5;241m=\u001b[39m\u001b[38;5;241m20\u001b[39m\n\u001b[1;32m     50\u001b[0m )\n\u001b[1;32m     51\u001b[0m download\u001b[38;5;241m.\u001b[39mmain(index\u001b[38;5;241m=\u001b[39m\u001b[38;5;241m0\u001b[39m, basin_code\u001b[38;5;241m=\u001b[39mbasin_code)\n",
      "\u001b[0;31mNameError\u001b[0m: name 'user_name' is not defined"
     ]
    }
   ],
   "source": [
    "import pandas as pd\n",
    "import os\n",
    "\n",
    "basin_code = \"gron\"\n",
    "master_user = \"pnadel01\"\n",
    "download_type = \"excel\"\n",
    "\n",
    "paths, current_user = get_user(basin_code, master_user, download_type)\n",
    "status_file = paths[\"status_file\"]\n",
    "\n",
    "status_data = pd.read_csv(status_file, index_col=0)\n",
    "row_index = 0\n",
    "while row_index < len(status_data):\n",
    "    # Check if all rows are finished\n",
    "    if (status_data['finished'] == 1).all():\n",
    "        print(f\"All rows for {basin_code} are downloaded!\")\n",
    "        break\n",
    "    else:\n",
    "        full_process(current_user)"
   ]
  },
  {
   "cell_type": "code",
   "execution_count": null,
   "metadata": {},
   "outputs": [],
   "source": []
  }
 ],
 "metadata": {
  "kernelspec": {
   "display_name": "venv",
   "language": "python",
   "name": "python3"
  },
  "language_info": {
   "codemirror_mode": {
    "name": "ipython",
    "version": 3
   },
   "file_extension": ".py",
   "mimetype": "text/x-python",
   "name": "python",
   "nbconvert_exporter": "python",
   "pygments_lexer": "ipython3",
   "version": "3.9.12"
  }
 },
 "nbformat": 4,
 "nbformat_minor": 2
}
