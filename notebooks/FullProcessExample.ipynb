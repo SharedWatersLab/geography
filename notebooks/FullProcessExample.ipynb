{
 "cells": [
  {
   "cell_type": "code",
   "execution_count": 5,
   "metadata": {},
   "outputs": [
    {
     "name": "stdout",
     "output_type": "stream",
     "text": [
      "selena\n",
      "/Users/selenawallace/Documents/geography/data/downloads/lkaz/excel//lkaz/excel folder does not exist\n"
     ]
    }
   ],
   "source": [
    "import os\n",
    "\n",
    "external_user = False\n",
    "basin_code = \"lkaz\"\n",
    "master_user = \"selena\"\n",
    "download_type = \"excel\"\n",
    "\n",
    "from classes.UserClass import UserClass\n",
    "currentUser = UserClass(basin_code, master_user, external_user)\n",
    "currentUser.getName()\n",
    "paths = currentUser.getPath(\"excel\")\n",
    "geography_folder = paths[\"geography_folder\"]\n",
    "download_folder_temp = paths[\"download_folder_temp\"]\n",
    "download_folder = paths[\"download_folder\"]\n",
    "status_file = paths[\"status_file\"]\n",
    "\n",
    "directory = (f\"{download_folder}/{basin_code}/{download_type}\")\n",
    "\n",
    "if os.path.exists(directory):\n",
    "    print(f\"{basin_code}/{download_type} folder already exists\")\n",
    "else:\n",
    "    os.makedirs(directory)\n",
    "    print(f\"created folder {basin_code}/{download_type}\")"
   ]
  },
  {
   "cell_type": "code",
   "execution_count": 6,
   "metadata": {},
   "outputs": [
    {
     "name": "stdout",
     "output_type": "stream",
     "text": [
      "created folder: lkaz/excel\n"
     ]
    }
   ],
   "source": [
    "\n",
    "\n",
    "\n"
   ]
  },
  {
   "cell_type": "code",
   "execution_count": 1,
   "metadata": {},
   "outputs": [
    {
     "name": "stdout",
     "output_type": "stream",
     "text": [
      "selena\n",
      "False\n"
     ]
    }
   ],
   "source": [
    "from selenium import webdriver\n",
    "from selenium.webdriver.chrome.service import Service\n",
    "from selenium.webdriver.chrome.options import Options as ChromeOptions\n",
    "from webdriver_manager.chrome import ChromeDriverManager\n",
    "from selenium.webdriver.common.by import By\n",
    "from selenium.webdriver.support import expected_conditions as EC\n",
    "from selenium.webdriver.support.wait import WebDriverWait\n",
    "\n",
    "import pandas as pd\n",
    "import time\n",
    "import getpass\n",
    "import os\n",
    "\n",
    "from geography.classes.UserClass import UserClass\n",
    "\n",
    "#USER INFORMATION: User and Basin Information Setup (Set this for yourself and the current basin)\n",
    "external_user = False\n",
    "basin_code = \"cngo\"\n",
    "master_user = \"selena\"\n",
    "\n",
    "currentUser = UserClass(basin_code, master_user, external_user)\n",
    "currentUser.getName()\n",
    "paths = currentUser.getPath(\"excel\")\n",
    "\n",
    "#Base Paths \n",
    "user_name = paths[\"user_name\"]\n",
    "geography_folder = paths[\"geography_folder\"]\n",
    "download_folder_temp = paths[\"download_folder_temp\"]\n",
    "download_folder = paths[\"download_folder\"]\n",
    "status_file = paths[\"status_file\"]\n",
    "#might try to put these into userclass, no?\n",
    "\n",
    "#add time.sleep()s between cells where needed in .py"
   ]
  },
  {
   "cell_type": "code",
   "execution_count": 2,
   "metadata": {},
   "outputs": [
    {
     "name": "stdout",
     "output_type": "stream",
     "text": [
      "Password set!\n",
      "Logging in user with userName swalla05\n",
      "entered Tufts username and password\n",
      "DUO push code on screen OR wait for call\n",
      "DUO calling\n",
      "skipped trust browser page\n"
     ]
    }
   ],
   "source": [
    "#copying below, using same to instantiate login and pw mgr\n",
    "# maybe this is how I use it in a main script, but I might...\n",
    "from classes.LoginClass import WebDriverManager, Login, PasswordManager\n",
    "\n",
    "if __name__ == \"__main__\":  \n",
    "    pm = PasswordManager()\n",
    "    if pm.password is None:\n",
    "        password = pm.get_password()\n",
    "        print(\"Password set!\")\n",
    "    else: pass\n",
    "    \n",
    "    manager = WebDriverManager()\n",
    "    driver = manager.start_driver()\n",
    "    options = manager.setup_options()\n",
    "\n",
    "    login = Login(user_name=user_name, password=password, driver_manager=manager, url=None)\n",
    "    login._init_login()"
   ]
  },
  {
   "cell_type": "code",
   "execution_count": 3,
   "metadata": {},
   "outputs": [],
   "source": [
    "#and the search terms sheet\n",
    "#df = pd.read_excel('TrackingSheet_basinterms.xlsx')\n",
    "df = pd.read_excel('TrackingSheet_NEWbasinterms.xlsx') #to test the new basin search terms\n",
    "#the sheet is in the same folder as this notebook, otherwise would need full file path\n",
    "row = df[df['BCODE'] == basin_code.upper()]\n",
    "search_term = row['Basin_Specific_Terms'].values[0]\n",
    "#print(search_term)"
   ]
  },
  {
   "cell_type": "code",
   "execution_count": 48,
   "metadata": {},
   "outputs": [],
   "source": [
    "\n",
    "\n",
    "# we're probably already on nexis home but have something like this to check\n",
    "def NexisHome():\n",
    "    nexis_home_substring = 'bisnexishome'\n",
    "    if nexis_home_substring in driver.current_url:\n",
    "        print('already on Nexis Uni home page')\n",
    "        pass\n",
    "    else:\n",
    "        print(\"Navigate to Nexis Uni home page\")\n",
    "        driver.get(\"https://advance-lexis-com.ezproxy.library.tufts.edu/bisnexishome?crid=6537b0c7-d00a-4047-8afa-732967dfba6e&pdmfid=1519360&pdisurlapi=true\")\n",
    "        # I'm not sure this is exactly what I want but a good placeholder"
   ]
  },
  {
   "cell_type": "code",
   "execution_count": 49,
   "metadata": {},
   "outputs": [
    {
     "name": "stdout",
     "output_type": "stream",
     "text": [
      "Navigate to Nexis Uni home page\n"
     ]
    }
   ],
   "source": [
    "NexisHome()"
   ]
  },
  {
   "cell_type": "code",
   "execution_count": 4,
   "metadata": {},
   "outputs": [
    {
     "name": "stdout",
     "output_type": "stream",
     "text": [
      "Initializing search with driver: <selenium.webdriver.chrome.webdriver.WebDriver (session=\"cc71b2f2b8e073ef91601ace23ef5d06\")> and search term: Congo OR Zaire OR Lualaba OR Lubudi OR Lomami OR Lulonga OR Ikelemba OR Ruki OR Kasai OR Lufira OR Luvua OR Lukuga OR Luama OR Elila OR Ulindi OR Lowa OR Maiko OR Lindi OR Aruwimi OR Itimbiri OR Mongala OR Ubangi OR Sangha OR Likouala OR Alima OR Lefini OR Kwango OR Cuango OR Kwenge OR Kwilu OR Loange OR Lukeni OR Lopori OR Maringa OR Tele OR Ngoko OR Motaba OR Giri\n"
     ]
    }
   ],
   "source": [
    "from classes.NoLinkClass import NoLinkClass\n",
    "nlc = NoLinkClass(driver, search_term)\n",
    "\n",
    "'''\n",
    "#nlc.get_search_term()\n",
    "nlc._init_search()\n",
    "#nlc._box_1()\n",
    "#nlc._box_2()\n",
    "#nlc._box_3()\n",
    "#nlc._box_4()\n",
    "nlc._search_box()\n",
    "nlc.complete_search()\n",
    "'''\n",
    "\n",
    "#search_process is how we get to results page without URL\n",
    "\n",
    "def search_process():\n",
    "    nlc._init_search()\n",
    "    nlc._search_box()\n",
    "    nlc.complete_search() \n",
    "\n",
    "search_process()"
   ]
  },
  {
   "cell_type": "code",
   "execution_count": 5,
   "metadata": {},
   "outputs": [
    {
     "name": "stdout",
     "output_type": "stream",
     "text": [
      "arrived at cngo result page\n"
     ]
    }
   ],
   "source": [
    "#could put an if statement like if the search went through...\n",
    "print(\"arrived at \" + basin_code + \" result page\")"
   ]
  },
  {
   "cell_type": "markdown",
   "metadata": {},
   "source": [
    "# below here, pulling \"steps\" from single_basin_search()"
   ]
  },
  {
   "cell_type": "code",
   "execution_count": 11,
   "metadata": {},
   "outputs": [],
   "source": [
    "# testing timeline button\n",
    "\n",
    "# hey, I want to be able to use click from css and stuff \n",
    "# but I don't know how because it's in another class\n",
    "\n",
    "def open_timeline():\n",
    "    timeline_dropdown = '#podfiltersbuttondatestr-news'\n",
    "    driver.find_element(By.CSS_SELECTOR, timeline_dropdown).click()\n",
    "    time.sleep(3)\n",
    "\n",
    "from selenium.webdriver.common.keys import Keys \n",
    "\n",
    "#status_sheet_path = #maybe this should be in a class somewhere\n",
    "#status_data = pd.read(status_sheet_path)\n",
    "\n",
    "start_date = '01/01/2000' #it'll be from status sheet...\n",
    "end_date = '12/31/2000'\n",
    "\n",
    "def change_dates():\n",
    "    \n",
    "    # if timeline already narrowed at start of download/timeline process loop\n",
    "    # if the below element exists... click it. if not, pass.\n",
    "    timeline_reset_button = driver.find_element(By.CSS_SELECTOR, '#sidebar > div.search-controls > div.filter-container.filterpanel-target > ul > li:nth-child(2) > button > span')\n",
    "    try:\n",
    "        timeline_reset_button.click()\n",
    "        print(\"Clearing previous timeline filter\")\n",
    "    finally:\n",
    "        pass\n",
    "    # this gives an error message if no element, but works otherwise\n",
    "\n",
    "    print(\"Setting the date range from \", start_date, \" to \", end_date)\n",
    "\n",
    "    # needs a scroll\n",
    "    driver.execute_script(\"window.scrollTo(0,120)\")\n",
    "    time.sleep(2)\n",
    "    driver.execute_script(\"window.scrollTo(0,400)\")\n",
    "    time.sleep(2)\n",
    "    \n",
    "    min_date_field = driver.find_element(By.CSS_SELECTOR, '#refine > div.supplemental.timeline > div.date-form > div.min-picker > input')\n",
    "    max_date_field = driver.find_element(By.CSS_SELECTOR, '#refine > div.supplemental.timeline > div.date-form > div.max-picker > input')\n",
    "\n",
    "    # Clear out the default date \n",
    "    min_date_field.click()\n",
    "    min_date_field.send_keys(Keys.COMMAND, \"a\"); # comment out if PC\n",
    "    #min_date_field.send_keys(Keys.COMMAND, \"a\") # comment out if mac\n",
    "    min_date_field.send_keys(Keys.BACKSPACE);\n",
    "\n",
    "    # Put the new date in \n",
    "    min_date_field.send_keys(start_date)\n",
    "    print (\"Min date set\")\n",
    "\n",
    "    # Clear out the default date \n",
    "    max_date_field.click()\n",
    "    max_date_field.send_keys(Keys.COMMAND, \"a\"); # comment out if PC\n",
    "    #min_date_field.send_keys(Keys.COMMAND, \"a\") # comment out if mac\n",
    "    max_date_field.send_keys(Keys.BACKSPACE);\n",
    "\n",
    "    # Put the new date in \n",
    "    max_date_field.send_keys(end_date)\n",
    "    print (\"Max date set\")\n",
    "\n",
    "    timeline_ok_button = driver.find_element(By.CSS_SELECTOR, '#refine > div.supplemental.timeline > div.date-form > button')\n",
    "    timeline_ok_button.click() \n",
    "\n",
    "\n"
   ]
  },
  {
   "cell_type": "code",
   "execution_count": 10,
   "metadata": {},
   "outputs": [
    {
     "ename": "NoSuchElementException",
     "evalue": "Message: no such element: Unable to locate element: {\"method\":\"css selector\",\"selector\":\"#sidebar > div.search-controls > div.filter-container.filterpanel-target > ul > li:nth-child(2) > button > span\"}\n  (Session info: chrome=126.0.6478.183); For documentation on this error, please visit: https://www.selenium.dev/documentation/webdriver/troubleshooting/errors#no-such-element-exception\nStacktrace:\n0   chromedriver                        0x000000010d65a078 chromedriver + 5169272\n1   chromedriver                        0x000000010d651f4a chromedriver + 5136202\n2   chromedriver                        0x000000010d1ce36c chromedriver + 402284\n3   chromedriver                        0x000000010d21b740 chromedriver + 718656\n4   chromedriver                        0x000000010d21ba01 chromedriver + 719361\n5   chromedriver                        0x000000010d260bc4 chromedriver + 1002436\n6   chromedriver                        0x000000010d23eadd chromedriver + 862941\n7   chromedriver                        0x000000010d25df57 chromedriver + 991063\n8   chromedriver                        0x000000010d23e853 chromedriver + 862291\n9   chromedriver                        0x000000010d20e5c6 chromedriver + 665030\n10  chromedriver                        0x000000010d20ee4e chromedriver + 667214\n11  chromedriver                        0x000000010d61cc90 chromedriver + 4918416\n12  chromedriver                        0x000000010d621c8d chromedriver + 4938893\n13  chromedriver                        0x000000010d622365 chromedriver + 4940645\n14  chromedriver                        0x000000010d5fdd74 chromedriver + 4791668\n15  chromedriver                        0x000000010d622659 chromedriver + 4941401\n16  chromedriver                        0x000000010d5ef544 chromedriver + 4732228\n17  chromedriver                        0x000000010d642828 chromedriver + 5072936\n18  chromedriver                        0x000000010d6429e7 chromedriver + 5073383\n19  chromedriver                        0x000000010d651afe chromedriver + 5135102\n20  libsystem_pthread.dylib             0x00007ff8129aa4e1 _pthread_start + 125\n21  libsystem_pthread.dylib             0x00007ff8129a5f6b thread_start + 15\n",
     "output_type": "error",
     "traceback": [
      "\u001b[0;31m---------------------------------------------------------------------------\u001b[0m",
      "\u001b[0;31mNoSuchElementException\u001b[0m                    Traceback (most recent call last)",
      "Input \u001b[0;32mIn [10]\u001b[0m, in \u001b[0;36m<cell line: 2>\u001b[0;34m()\u001b[0m\n\u001b[1;32m      1\u001b[0m open_timeline()\n\u001b[0;32m----> 2\u001b[0m \u001b[43mchange_dates\u001b[49m\u001b[43m(\u001b[49m\u001b[43m)\u001b[49m\n",
      "Input \u001b[0;32mIn [8]\u001b[0m, in \u001b[0;36mchange_dates\u001b[0;34m()\u001b[0m\n\u001b[1;32m     19\u001b[0m \u001b[38;5;28;01mdef\u001b[39;00m \u001b[38;5;21mchange_dates\u001b[39m():\n\u001b[1;32m     20\u001b[0m     \n\u001b[1;32m     21\u001b[0m     \u001b[38;5;66;03m# if timeline already narrowed at start of download/timeline process loop\u001b[39;00m\n\u001b[1;32m     22\u001b[0m     \u001b[38;5;66;03m# if the below element exists... click it. if not, pass.\u001b[39;00m\n\u001b[0;32m---> 23\u001b[0m     timeline_reset_button \u001b[38;5;241m=\u001b[39m \u001b[43mdriver\u001b[49m\u001b[38;5;241;43m.\u001b[39;49m\u001b[43mfind_element\u001b[49m\u001b[43m(\u001b[49m\u001b[43mBy\u001b[49m\u001b[38;5;241;43m.\u001b[39;49m\u001b[43mCSS_SELECTOR\u001b[49m\u001b[43m,\u001b[49m\u001b[43m \u001b[49m\u001b[38;5;124;43m'\u001b[39;49m\u001b[38;5;124;43m#sidebar > div.search-controls > div.filter-container.filterpanel-target > ul > li:nth-child(2) > button > span\u001b[39;49m\u001b[38;5;124;43m'\u001b[39;49m\u001b[43m)\u001b[49m\n\u001b[1;32m     24\u001b[0m     \u001b[38;5;28;01mtry\u001b[39;00m:\n\u001b[1;32m     25\u001b[0m         timeline_reset_button\u001b[38;5;241m.\u001b[39mclick()\n",
      "File \u001b[0;32m~/miniconda3/envs/ds_env2/lib/python3.10/site-packages/selenium/webdriver/remote/webdriver.py:740\u001b[0m, in \u001b[0;36mWebDriver.find_element\u001b[0;34m(self, by, value)\u001b[0m\n\u001b[1;32m    737\u001b[0m     by \u001b[38;5;241m=\u001b[39m By\u001b[38;5;241m.\u001b[39mCSS_SELECTOR\n\u001b[1;32m    738\u001b[0m     value \u001b[38;5;241m=\u001b[39m \u001b[38;5;124mf\u001b[39m\u001b[38;5;124m'\u001b[39m\u001b[38;5;124m[name=\u001b[39m\u001b[38;5;124m\"\u001b[39m\u001b[38;5;132;01m{\u001b[39;00mvalue\u001b[38;5;132;01m}\u001b[39;00m\u001b[38;5;124m\"\u001b[39m\u001b[38;5;124m]\u001b[39m\u001b[38;5;124m'\u001b[39m\n\u001b[0;32m--> 740\u001b[0m \u001b[38;5;28;01mreturn\u001b[39;00m \u001b[38;5;28;43mself\u001b[39;49m\u001b[38;5;241;43m.\u001b[39;49m\u001b[43mexecute\u001b[49m\u001b[43m(\u001b[49m\u001b[43mCommand\u001b[49m\u001b[38;5;241;43m.\u001b[39;49m\u001b[43mFIND_ELEMENT\u001b[49m\u001b[43m,\u001b[49m\u001b[43m \u001b[49m\u001b[43m{\u001b[49m\u001b[38;5;124;43m\"\u001b[39;49m\u001b[38;5;124;43musing\u001b[39;49m\u001b[38;5;124;43m\"\u001b[39;49m\u001b[43m:\u001b[49m\u001b[43m \u001b[49m\u001b[43mby\u001b[49m\u001b[43m,\u001b[49m\u001b[43m \u001b[49m\u001b[38;5;124;43m\"\u001b[39;49m\u001b[38;5;124;43mvalue\u001b[39;49m\u001b[38;5;124;43m\"\u001b[39;49m\u001b[43m:\u001b[49m\u001b[43m \u001b[49m\u001b[43mvalue\u001b[49m\u001b[43m}\u001b[49m\u001b[43m)\u001b[49m[\u001b[38;5;124m\"\u001b[39m\u001b[38;5;124mvalue\u001b[39m\u001b[38;5;124m\"\u001b[39m]\n",
      "File \u001b[0;32m~/miniconda3/envs/ds_env2/lib/python3.10/site-packages/selenium/webdriver/remote/webdriver.py:346\u001b[0m, in \u001b[0;36mWebDriver.execute\u001b[0;34m(self, driver_command, params)\u001b[0m\n\u001b[1;32m    344\u001b[0m response \u001b[38;5;241m=\u001b[39m \u001b[38;5;28mself\u001b[39m\u001b[38;5;241m.\u001b[39mcommand_executor\u001b[38;5;241m.\u001b[39mexecute(driver_command, params)\n\u001b[1;32m    345\u001b[0m \u001b[38;5;28;01mif\u001b[39;00m response:\n\u001b[0;32m--> 346\u001b[0m     \u001b[38;5;28;43mself\u001b[39;49m\u001b[38;5;241;43m.\u001b[39;49m\u001b[43merror_handler\u001b[49m\u001b[38;5;241;43m.\u001b[39;49m\u001b[43mcheck_response\u001b[49m\u001b[43m(\u001b[49m\u001b[43mresponse\u001b[49m\u001b[43m)\u001b[49m\n\u001b[1;32m    347\u001b[0m     response[\u001b[38;5;124m\"\u001b[39m\u001b[38;5;124mvalue\u001b[39m\u001b[38;5;124m\"\u001b[39m] \u001b[38;5;241m=\u001b[39m \u001b[38;5;28mself\u001b[39m\u001b[38;5;241m.\u001b[39m_unwrap_value(response\u001b[38;5;241m.\u001b[39mget(\u001b[38;5;124m\"\u001b[39m\u001b[38;5;124mvalue\u001b[39m\u001b[38;5;124m\"\u001b[39m, \u001b[38;5;28;01mNone\u001b[39;00m))\n\u001b[1;32m    348\u001b[0m     \u001b[38;5;28;01mreturn\u001b[39;00m response\n",
      "File \u001b[0;32m~/miniconda3/envs/ds_env2/lib/python3.10/site-packages/selenium/webdriver/remote/errorhandler.py:245\u001b[0m, in \u001b[0;36mErrorHandler.check_response\u001b[0;34m(self, response)\u001b[0m\n\u001b[1;32m    243\u001b[0m         alert_text \u001b[38;5;241m=\u001b[39m value[\u001b[38;5;124m\"\u001b[39m\u001b[38;5;124malert\u001b[39m\u001b[38;5;124m\"\u001b[39m]\u001b[38;5;241m.\u001b[39mget(\u001b[38;5;124m\"\u001b[39m\u001b[38;5;124mtext\u001b[39m\u001b[38;5;124m\"\u001b[39m)\n\u001b[1;32m    244\u001b[0m     \u001b[38;5;28;01mraise\u001b[39;00m exception_class(message, screen, stacktrace, alert_text)  \u001b[38;5;66;03m# type: ignore[call-arg]  # mypy is not smart enough here\u001b[39;00m\n\u001b[0;32m--> 245\u001b[0m \u001b[38;5;28;01mraise\u001b[39;00m exception_class(message, screen, stacktrace)\n",
      "\u001b[0;31mNoSuchElementException\u001b[0m: Message: no such element: Unable to locate element: {\"method\":\"css selector\",\"selector\":\"#sidebar > div.search-controls > div.filter-container.filterpanel-target > ul > li:nth-child(2) > button > span\"}\n  (Session info: chrome=126.0.6478.183); For documentation on this error, please visit: https://www.selenium.dev/documentation/webdriver/troubleshooting/errors#no-such-element-exception\nStacktrace:\n0   chromedriver                        0x000000010d65a078 chromedriver + 5169272\n1   chromedriver                        0x000000010d651f4a chromedriver + 5136202\n2   chromedriver                        0x000000010d1ce36c chromedriver + 402284\n3   chromedriver                        0x000000010d21b740 chromedriver + 718656\n4   chromedriver                        0x000000010d21ba01 chromedriver + 719361\n5   chromedriver                        0x000000010d260bc4 chromedriver + 1002436\n6   chromedriver                        0x000000010d23eadd chromedriver + 862941\n7   chromedriver                        0x000000010d25df57 chromedriver + 991063\n8   chromedriver                        0x000000010d23e853 chromedriver + 862291\n9   chromedriver                        0x000000010d20e5c6 chromedriver + 665030\n10  chromedriver                        0x000000010d20ee4e chromedriver + 667214\n11  chromedriver                        0x000000010d61cc90 chromedriver + 4918416\n12  chromedriver                        0x000000010d621c8d chromedriver + 4938893\n13  chromedriver                        0x000000010d622365 chromedriver + 4940645\n14  chromedriver                        0x000000010d5fdd74 chromedriver + 4791668\n15  chromedriver                        0x000000010d622659 chromedriver + 4941401\n16  chromedriver                        0x000000010d5ef544 chromedriver + 4732228\n17  chromedriver                        0x000000010d642828 chromedriver + 5072936\n18  chromedriver                        0x000000010d6429e7 chromedriver + 5073383\n19  chromedriver                        0x000000010d651afe chromedriver + 5135102\n20  libsystem_pthread.dylib             0x00007ff8129aa4e1 _pthread_start + 125\n21  libsystem_pthread.dylib             0x00007ff8129a5f6b thread_start + 15\n"
     ]
    }
   ],
   "source": [
    "open_timeline()\n",
    "change_dates()"
   ]
  },
  {
   "cell_type": "markdown",
   "metadata": {},
   "source": [
    "- next need to add in pandas logic \n",
    "- to read dates from status sheet"
   ]
  },
  {
   "cell_type": "markdown",
   "metadata": {},
   "source": [
    "- there's some stuff in the thing below that deals with timeline visibility issues\n",
    "- and definitely want to use the nosuchelementexception stuff"
   ]
  },
  {
   "cell_type": "code",
   "execution_count": null,
   "metadata": {},
   "outputs": [],
   "source": [
    "#STEP 2: Set Date Range\n",
    "def change_date(search_link, start_date, end_date):\n",
    "    print(\"STEP 2:\")\n",
    "    print(\"Setting the date range from \", start_date, \" to \", end_date)\n",
    "    driver.execute_script(\"window.scrollTo(0,120)\")\n",
    "    time.sleep(2)\n",
    "    driver.execute_script(\"window.scrollTo(0,400)\")\n",
    "    time.sleep(2)\n",
    "\n",
    "    #Step 1: Check if Min Val is Visibile (will be when the timeline button is clicked)\n",
    "    attempt_to_open_timeline()\n",
    "\n",
    "    set_min_date(search_link, start_date)\n",
    "    set_max_date(search_link, end_date)\n",
    "\n",
    "    driver.find_element(By.CSS_SELECTOR, \".save\").click()\n",
    "    time.sleep(4)\n",
    "    print(\"STEP 2: Finished\")\n",
    "\n",
    "#Function 2A: Open the Timeline Button \n",
    "def attempt_to_open_timeline():\n",
    "    print(\"Step 2A: Attempt to Open Timeline we will scroll to and try to click the button\")\n",
    "    timeline_opened = check_timeline_opened()\n",
    "\n",
    "    #if the timeline is not opened then open it \n",
    "    if timeline_opened == False:\n",
    "        #TO DO: Handle when this doesn't open\n",
    "        open_timeline_button()\n",
    "\n",
    "\n",
    "#Function 2B: Set Min date \n",
    "def set_min_date(search_link, start_date):\n",
    "    print(\"Starting set_min_date\")\n",
    "    print(start_date)\n",
    "    min_count = 0\n",
    "\n",
    "    #Try to open the timeline window if it does not open get the page again to reset \n",
    "    while min_count < 5:\n",
    "        try:\n",
    "            min_val_button = driver.find_element(By.CSS_SELECTOR, \".min-val\")   \n",
    "            time.sleep(1)  \n",
    "            min_count = 10 \n",
    "        except NoSuchElementException:  \n",
    "            print(\"NoSuchElementException couldn't find min value \", min_count)\n",
    "            driver.get(search_link)\n",
    "            time.sleep(4)\n",
    "\n",
    "            attempt_to_open_timeline()\n",
    "                    \n",
    "            min_count = min_count + 1\n",
    "'''        \n",
    "    #Clear out the current date \n",
    "    for x in range(12):\n",
    "        min_val_button.click()\n",
    "        min_val_button.send_keys(Keys.BACKSPACE)\n",
    "        time.sleep(.1)\n",
    "\n",
    "    #Put the new date in\n",
    "    min_val_button.send_keys(start_date)\n",
    "    print(\"Min date set\")\n",
    "    time.sleep(2)\n",
    "\n",
    "#Function 2C: Set Max date \n",
    "def set_max_date(search_link, end_date):\n",
    "    print(\"Starting set_max_date \")\n",
    "    print(end_date)\n",
    "    max_count = 0\n",
    "\n",
    "    try:\n",
    "        driver.find_element(By.CSS_SELECTOR, \".max-val\").click()\n",
    "        time.sleep(1)   \n",
    "    except NoSuchElementException:  \n",
    "        print(\"NoSuchElementException couldn't find max value \", max_count)\n",
    "        driver.get(search_link)\n",
    "        time.sleep(4) \n",
    "        attempt_to_open_timeline()\n",
    "        max_count = max_count + 1\n",
    "        \n",
    " \n",
    "    for x in range(12):\n",
    "        driver.find_element(By.CSS_SELECTOR, \".max-val\").send_keys(Keys.BACKSPACE)\n",
    "        time.sleep(.2)   \n",
    "    time.sleep(1)\n",
    " \n",
    "    driver.find_element(By.CSS_SELECTOR, \".max-val\").send_keys(end_date)\n",
    "    print(\"Max date set\")\n",
    "\n",
    "    time.sleep(2)\n",
    "    '''\n",
    "\n",
    "#Function 2D: Open the Timeline Button\n",
    "def open_timeline_button():\n",
    "    timeline_opened = check_timeline_opened()\n",
    "    #print(\"Check timeline status\")\n",
    "    #print(timeline_opened)\n",
    "\n",
    "    if timeline_opened == False:\n",
    "        print(\"The timeline is closed so we will open the timeline\")\n",
    "\n",
    "        #Open the Timeline\n",
    "        try:\n",
    "            driver.find_element(By.ID, \"podfiltersbuttondatestr-news\").click()\n",
    "            print(\"Found and opened the timeline\")\n",
    "\n",
    "            time.sleep(8)  \n",
    "        except NoSuchElementException:  \n",
    "            print(\"Couldn't find the timeline open button\")\n",
    "\n",
    "    else: \n",
    "        print(\"Timeline is opened\")\n",
    "\n",
    "    timeline_opened = check_timeline_opened()\n",
    "    print(\"Final check on timeline \")\n",
    "    print(timeline_opened)\n",
    "    time.sleep(6)\n",
    "    return timeline_opened\n",
    "\n",
    "#Function 2E: Check if timeline open or closed \n",
    "def check_timeline_opened():\n",
    "    timeline_opened = False\n",
    "\n",
    "    try:\n",
    "        min_val_temp = driver.find_element(By.CSS_SELECTOR, \".min-val\")   \n",
    "        timeline_opened = True\n",
    "        #print(\"The timeline is opened\")\n",
    "    except NoSuchElementException:  \n",
    "        timeline_opened = False\n",
    "        #print(\"The timeline is not opened\")\n",
    "    return timeline_opened"
   ]
  },
  {
   "cell_type": "code",
   "execution_count": 79,
   "metadata": {},
   "outputs": [],
   "source": [
    "# and can keep with def group_duplicates(): #still\n",
    "# group duplicates from main\n",
    "def group_duplicates():\n",
    "    # new group duplicates buttons\n",
    "    actions_dropdown = '#resultlistactionmenubuttonhc-yk'\n",
    "    #high_similarity = '#hc-yk > ln-gns-resultslist > header > h2 > ul > li > aside > ul.nexisnewdedupe > li:nth-child(4) > button'\n",
    "    moderate_similarity = '#hc-yk > ln-gns-resultslist > header > h2 > ul > li > aside > ul.nexisnewdedupe > li:nth-child(5) > button'\n",
    "    \n",
    "    actions_dropdown\n",
    "    moderate_similarity.click() #change if we choose high\n",
    "\n",
    "\n",
    "#def sort_by_date():"
   ]
  },
  {
   "cell_type": "code",
   "execution_count": 80,
   "metadata": {},
   "outputs": [
    {
     "ename": "WebDriverException",
     "evalue": "Message: disconnected: not connected to DevTools\n  (failed to check if window was closed: disconnected: not connected to DevTools)\n  (Session info: chrome=126.0.6478.127)\nStacktrace:\n0   chromedriver                        0x000000010c27f078 chromedriver + 5169272\n1   chromedriver                        0x000000010c276f4a chromedriver + 5136202\n2   chromedriver                        0x000000010bdf336c chromedriver + 402284\n3   chromedriver                        0x000000010bdd8d26 chromedriver + 294182\n4   chromedriver                        0x000000010bdd8c13 chromedriver + 293907\n5   chromedriver                        0x000000010bdf5782 chromedriver + 411522\n6   chromedriver                        0x000000010be8292b chromedriver + 989483\n7   chromedriver                        0x000000010be63853 chromedriver + 862291\n8   chromedriver                        0x000000010be335c6 chromedriver + 665030\n9   chromedriver                        0x000000010be33e4e chromedriver + 667214\n10  chromedriver                        0x000000010c241c90 chromedriver + 4918416\n11  chromedriver                        0x000000010c246c8d chromedriver + 4938893\n12  chromedriver                        0x000000010c247365 chromedriver + 4940645\n13  chromedriver                        0x000000010c222d74 chromedriver + 4791668\n14  chromedriver                        0x000000010c247659 chromedriver + 4941401\n15  chromedriver                        0x000000010c214544 chromedriver + 4732228\n16  chromedriver                        0x000000010c267828 chromedriver + 5072936\n17  chromedriver                        0x000000010c2679e7 chromedriver + 5073383\n18  chromedriver                        0x000000010c276afe chromedriver + 5135102\n19  libsystem_pthread.dylib             0x00007ff8129aa4e1 _pthread_start + 125\n20  libsystem_pthread.dylib             0x00007ff8129a5f6b thread_start + 15\n",
     "output_type": "error",
     "traceback": [
      "\u001b[0;31m---------------------------------------------------------------------------\u001b[0m",
      "\u001b[0;31mWebDriverException\u001b[0m                        Traceback (most recent call last)",
      "Input \u001b[0;32mIn [80]\u001b[0m, in \u001b[0;36m<cell line: 1>\u001b[0;34m()\u001b[0m\n\u001b[0;32m----> 1\u001b[0m \u001b[43mgroup_duplicates\u001b[49m\u001b[43m(\u001b[49m\u001b[43m)\u001b[49m\n",
      "Input \u001b[0;32mIn [79]\u001b[0m, in \u001b[0;36mgroup_duplicates\u001b[0;34m()\u001b[0m\n\u001b[1;32m      3\u001b[0m \u001b[38;5;28;01mdef\u001b[39;00m \u001b[38;5;21mgroup_duplicates\u001b[39m():\n\u001b[1;32m      4\u001b[0m     \u001b[38;5;66;03m# new group duplicates buttons\u001b[39;00m\n\u001b[0;32m----> 5\u001b[0m     actions_dropdown \u001b[38;5;241m=\u001b[39m \u001b[43mdriver\u001b[49m\u001b[38;5;241;43m.\u001b[39;49m\u001b[43mfind_element\u001b[49m\u001b[43m(\u001b[49m\u001b[43mBy\u001b[49m\u001b[38;5;241;43m.\u001b[39;49m\u001b[43mCSS_SELECTOR\u001b[49m\u001b[43m,\u001b[49m\u001b[43m \u001b[49m\u001b[38;5;124;43m'\u001b[39;49m\u001b[38;5;124;43m#resultlistactionmenubuttonhc-yk\u001b[39;49m\u001b[38;5;124;43m'\u001b[39;49m\u001b[43m)\u001b[49m\n\u001b[1;32m      6\u001b[0m     high_similarity \u001b[38;5;241m=\u001b[39m driver\u001b[38;5;241m.\u001b[39mfind_element(By\u001b[38;5;241m.\u001b[39mCSS_SELECTOR, \u001b[38;5;124m'\u001b[39m\u001b[38;5;124m#hc-yk > ln-gns-resultslist > header > h2 > ul > li > aside > ul.nexisnewdedupe > li:nth-child(4) > button\u001b[39m\u001b[38;5;124m'\u001b[39m)\n\u001b[1;32m      7\u001b[0m     moderate_similarity \u001b[38;5;241m=\u001b[39m driver\u001b[38;5;241m.\u001b[39mfind_element(By\u001b[38;5;241m.\u001b[39mCSS_SELECTOR, \u001b[38;5;124m'\u001b[39m\u001b[38;5;124m#hc-yk > ln-gns-resultslist > header > h2 > ul > li > aside > ul.nexisnewdedupe > li:nth-child(5) > button\u001b[39m\u001b[38;5;124m'\u001b[39m)\n",
      "File \u001b[0;32m~/miniconda3/envs/ds_env2/lib/python3.10/site-packages/selenium/webdriver/remote/webdriver.py:740\u001b[0m, in \u001b[0;36mWebDriver.find_element\u001b[0;34m(self, by, value)\u001b[0m\n\u001b[1;32m    737\u001b[0m     by \u001b[38;5;241m=\u001b[39m By\u001b[38;5;241m.\u001b[39mCSS_SELECTOR\n\u001b[1;32m    738\u001b[0m     value \u001b[38;5;241m=\u001b[39m \u001b[38;5;124mf\u001b[39m\u001b[38;5;124m'\u001b[39m\u001b[38;5;124m[name=\u001b[39m\u001b[38;5;124m\"\u001b[39m\u001b[38;5;132;01m{\u001b[39;00mvalue\u001b[38;5;132;01m}\u001b[39;00m\u001b[38;5;124m\"\u001b[39m\u001b[38;5;124m]\u001b[39m\u001b[38;5;124m'\u001b[39m\n\u001b[0;32m--> 740\u001b[0m \u001b[38;5;28;01mreturn\u001b[39;00m \u001b[38;5;28;43mself\u001b[39;49m\u001b[38;5;241;43m.\u001b[39;49m\u001b[43mexecute\u001b[49m\u001b[43m(\u001b[49m\u001b[43mCommand\u001b[49m\u001b[38;5;241;43m.\u001b[39;49m\u001b[43mFIND_ELEMENT\u001b[49m\u001b[43m,\u001b[49m\u001b[43m \u001b[49m\u001b[43m{\u001b[49m\u001b[38;5;124;43m\"\u001b[39;49m\u001b[38;5;124;43musing\u001b[39;49m\u001b[38;5;124;43m\"\u001b[39;49m\u001b[43m:\u001b[49m\u001b[43m \u001b[49m\u001b[43mby\u001b[49m\u001b[43m,\u001b[49m\u001b[43m \u001b[49m\u001b[38;5;124;43m\"\u001b[39;49m\u001b[38;5;124;43mvalue\u001b[39;49m\u001b[38;5;124;43m\"\u001b[39;49m\u001b[43m:\u001b[49m\u001b[43m \u001b[49m\u001b[43mvalue\u001b[49m\u001b[43m}\u001b[49m\u001b[43m)\u001b[49m[\u001b[38;5;124m\"\u001b[39m\u001b[38;5;124mvalue\u001b[39m\u001b[38;5;124m\"\u001b[39m]\n",
      "File \u001b[0;32m~/miniconda3/envs/ds_env2/lib/python3.10/site-packages/selenium/webdriver/remote/webdriver.py:346\u001b[0m, in \u001b[0;36mWebDriver.execute\u001b[0;34m(self, driver_command, params)\u001b[0m\n\u001b[1;32m    344\u001b[0m response \u001b[38;5;241m=\u001b[39m \u001b[38;5;28mself\u001b[39m\u001b[38;5;241m.\u001b[39mcommand_executor\u001b[38;5;241m.\u001b[39mexecute(driver_command, params)\n\u001b[1;32m    345\u001b[0m \u001b[38;5;28;01mif\u001b[39;00m response:\n\u001b[0;32m--> 346\u001b[0m     \u001b[38;5;28;43mself\u001b[39;49m\u001b[38;5;241;43m.\u001b[39;49m\u001b[43merror_handler\u001b[49m\u001b[38;5;241;43m.\u001b[39;49m\u001b[43mcheck_response\u001b[49m\u001b[43m(\u001b[49m\u001b[43mresponse\u001b[49m\u001b[43m)\u001b[49m\n\u001b[1;32m    347\u001b[0m     response[\u001b[38;5;124m\"\u001b[39m\u001b[38;5;124mvalue\u001b[39m\u001b[38;5;124m\"\u001b[39m] \u001b[38;5;241m=\u001b[39m \u001b[38;5;28mself\u001b[39m\u001b[38;5;241m.\u001b[39m_unwrap_value(response\u001b[38;5;241m.\u001b[39mget(\u001b[38;5;124m\"\u001b[39m\u001b[38;5;124mvalue\u001b[39m\u001b[38;5;124m\"\u001b[39m, \u001b[38;5;28;01mNone\u001b[39;00m))\n\u001b[1;32m    348\u001b[0m     \u001b[38;5;28;01mreturn\u001b[39;00m response\n",
      "File \u001b[0;32m~/miniconda3/envs/ds_env2/lib/python3.10/site-packages/selenium/webdriver/remote/errorhandler.py:245\u001b[0m, in \u001b[0;36mErrorHandler.check_response\u001b[0;34m(self, response)\u001b[0m\n\u001b[1;32m    243\u001b[0m         alert_text \u001b[38;5;241m=\u001b[39m value[\u001b[38;5;124m\"\u001b[39m\u001b[38;5;124malert\u001b[39m\u001b[38;5;124m\"\u001b[39m]\u001b[38;5;241m.\u001b[39mget(\u001b[38;5;124m\"\u001b[39m\u001b[38;5;124mtext\u001b[39m\u001b[38;5;124m\"\u001b[39m)\n\u001b[1;32m    244\u001b[0m     \u001b[38;5;28;01mraise\u001b[39;00m exception_class(message, screen, stacktrace, alert_text)  \u001b[38;5;66;03m# type: ignore[call-arg]  # mypy is not smart enough here\u001b[39;00m\n\u001b[0;32m--> 245\u001b[0m \u001b[38;5;28;01mraise\u001b[39;00m exception_class(message, screen, stacktrace)\n",
      "\u001b[0;31mWebDriverException\u001b[0m: Message: disconnected: not connected to DevTools\n  (failed to check if window was closed: disconnected: not connected to DevTools)\n  (Session info: chrome=126.0.6478.127)\nStacktrace:\n0   chromedriver                        0x000000010c27f078 chromedriver + 5169272\n1   chromedriver                        0x000000010c276f4a chromedriver + 5136202\n2   chromedriver                        0x000000010bdf336c chromedriver + 402284\n3   chromedriver                        0x000000010bdd8d26 chromedriver + 294182\n4   chromedriver                        0x000000010bdd8c13 chromedriver + 293907\n5   chromedriver                        0x000000010bdf5782 chromedriver + 411522\n6   chromedriver                        0x000000010be8292b chromedriver + 989483\n7   chromedriver                        0x000000010be63853 chromedriver + 862291\n8   chromedriver                        0x000000010be335c6 chromedriver + 665030\n9   chromedriver                        0x000000010be33e4e chromedriver + 667214\n10  chromedriver                        0x000000010c241c90 chromedriver + 4918416\n11  chromedriver                        0x000000010c246c8d chromedriver + 4938893\n12  chromedriver                        0x000000010c247365 chromedriver + 4940645\n13  chromedriver                        0x000000010c222d74 chromedriver + 4791668\n14  chromedriver                        0x000000010c247659 chromedriver + 4941401\n15  chromedriver                        0x000000010c214544 chromedriver + 4732228\n16  chromedriver                        0x000000010c267828 chromedriver + 5072936\n17  chromedriver                        0x000000010c2679e7 chromedriver + 5073383\n18  chromedriver                        0x000000010c276afe chromedriver + 5135102\n19  libsystem_pthread.dylib             0x00007ff8129aa4e1 _pthread_start + 125\n20  libsystem_pthread.dylib             0x00007ff8129a5f6b thread_start + 15\n"
     ]
    }
   ],
   "source": [
    "group_duplicates()"
   ]
  },
  {
   "cell_type": "code",
   "execution_count": null,
   "metadata": {},
   "outputs": [],
   "source": [
    "\n",
    "\n",
    "\n",
    "#STEP 3: Get Result Count and Toggle the Group Duplicates to On (DONE) \n",
    "def group_duplicates():\n",
    "    print(\"STEP 3: Group Duplicates- Get Result Count and Toggle the Group Duplicates to On \") \n",
    "\n",
    "    #We have to trigger this first due to a small glitch that prevents the basin count from showing up \n",
    "    driver.find_element(By.CSS_SELECTOR, \".custom-control-indicator\").click()\n",
    "    time.sleep(5)\n",
    "    \n",
    "    #Step 1: Get both of the results with the Group Duplicates Toggled on and off\n",
    "    basin_result_count_one_raw = get_result_count()\n",
    "    driver.find_element(By.CSS_SELECTOR, \".custom-control-indicator\").click()\n",
    "    time.sleep(5)\n",
    "    basin_result_count_two_raw = get_result_count()\n",
    "\n",
    "    if type(basin_result_count_one_raw) == None:\n",
    "        print(\"ERROR: The basin count was not available so quit\")\n",
    "        quit() \n",
    "    \n",
    "    #Convert Basin Count One to Int \n",
    "    basin_result_count_one = int(basin_result_count_one_raw)\n",
    "    basin_result_count_two = int(basin_result_count_two_raw)\n",
    "   \n",
    "    #Step 2: Set Group duplicats to the lower of the two \n",
    "    if basin_result_count_two > basin_result_count_one:\n",
    "        #print(\"basin_result_count_two was greater then basin_result_count_one so click the toggle again\")\n",
    "        driver.find_element(By.CSS_SELECTOR, \".custom-control-indicator\").click()\n",
    "        time.sleep(5)    \n",
    "    else: \n",
    "        print(\"basin_result_count_one was greater then basin_result_count_two so do nothing\")    \n",
    "\n",
    "    basin_result_count = min(basin_result_count_one, basin_result_count_two)\n",
    "    time.sleep(5)\n",
    "    print(\"STEP 3: Finished\")\n",
    "\n",
    "    return basin_result_count"
   ]
  },
  {
   "cell_type": "code",
   "execution_count": null,
   "metadata": {},
   "outputs": [],
   "source": [
    "from classes.LoginClass import Login, PasswordManager, WebDriverManager\n",
    "from classes.UserClass import UserClass\n",
    "\n",
    "class Downloads:\n",
    "    def __init__ (self, basin_code, master_user, external_user = False\n",
    "             #keyword argument shared by excel and pdf \n",
    "             ):\n",
    "        self.pm = PasswordManager()\n",
    "        self.password = self.pm.get_password() \n",
    "\n",
    "        self.user = UserClass(basin_code, master_user, external_user)\n",
    "        self.user_name = self.user.currentUser \n",
    "\n",
    "        self.driver_manager = WebDriverManager()\n",
    "\n",
    "        self.login = Login(self.user_name, self.password, self.driver_manager)\n",
    "        # login would happen inside this\n",
    "\n",
    "        #login could be in init\n",
    "\n",
    "        "
   ]
  },
  {
   "cell_type": "code",
   "execution_count": null,
   "metadata": {},
   "outputs": [],
   "source": [
    "# From Peter's colab 6/28\n",
    "class FullProcess:\n",
    "    def __init__(self, options = options, webdriver=webdriver):\n",
    "        self.number = 0\n",
    "        self.temp_foldername = \"storedLoginInformation\" + str(self.number)\n",
    "        self.options = options\n",
    "        self.webdriver = webdriver\n",
    "\n",
    "    def reset(self):\n",
    "        self.number += 1 # self.number = self.number + 1\n",
    "        self.temp_foldername = \"storedLoginInformation\" + str(self.number)\n",
    "        self.webdriver.close()\n",
    "\n",
    "    def setup(self, options):\n",
    "        # all of the free floating variables from the file\n",
    "        options.page_load_strategy = 'normal'\n",
    "        options.add_argument(\"--start-maximized\")\n",
    "        options.add_argument(\"user-data-dir=/tmp/storedLoginInformation10\")\n",
    "\n",
    "    def __call__(self):\n",
    "        self.reset()\n",
    "        self.setup()\n",
    "\n",
    "fp = FullProcess()\n",
    "fp() #(method = pdf, nolink, etc)\n",
    "# hit a nexus uni issue\n",
    "fp()"
   ]
  }
 ],
 "metadata": {
  "kernelspec": {
   "display_name": "ds_env2",
   "language": "python",
   "name": "python3"
  },
  "language_info": {
   "codemirror_mode": {
    "name": "ipython",
    "version": 3
   },
   "file_extension": ".py",
   "mimetype": "text/x-python",
   "name": "python",
   "nbconvert_exporter": "python",
   "pygments_lexer": "ipython3",
   "version": "3.10.13"
  }
 },
 "nbformat": 4,
 "nbformat_minor": 2
}
