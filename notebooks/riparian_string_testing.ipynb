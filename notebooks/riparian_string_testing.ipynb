{
 "cells": [
  {
   "cell_type": "code",
   "execution_count": 1,
   "id": "48f49a06",
   "metadata": {},
   "outputs": [],
   "source": [
    "import pandas as pd"
   ]
  },
  {
   "cell_type": "code",
   "execution_count": 13,
   "id": "30b71bd8",
   "metadata": {},
   "outputs": [],
   "source": [
    "# basin specific terms \"box 3\"\n",
    "basin_terms = pd.read_excel('basins_searchterms_tracking.xlsx') # has the current search terms\n",
    "# and then country terms new \"box 5\"\n",
    "riparian_terms = pd.read_csv('BasinMaster313_20240807.csv') # has riparian names\n"
   ]
  },
  {
   "cell_type": "code",
   "execution_count": null,
   "id": "286f3762",
   "metadata": {},
   "outputs": [],
   "source": [
    "basin_code = 'AMZN'"
   ]
  },
  {
   "cell_type": "code",
   "execution_count": null,
   "id": "f9a46e5b",
   "metadata": {},
   "outputs": [
    {
     "data": {
      "text/plain": [
       "['Bolivia', 'Brazil', 'Colombia', 'Ecuador', 'Guyana', 'Peru', 'Venezuela']"
      ]
     },
     "execution_count": 8,
     "metadata": {},
     "output_type": "execute_result"
    }
   ],
   "source": [
    "def create_country_list(basin_code):\n",
    "    riparian_row = riparian_terms[riparian_terms['BCODE'] == basin_code.upper()]\n",
    "    riparian_countries_string = riparian_row['Riparian_C'].values[0]\n",
    "    riparian_countries_list = riparian_countries_string.split(', ')\n",
    "    return riparian_countries_list\n",
    "\n",
    "riparian_countries_list = create_country_list(basin_code) # for example\n",
    "riparian_countries_list"
   ]
  },
  {
   "cell_type": "code",
   "execution_count": 10,
   "id": "19d99e3c",
   "metadata": {},
   "outputs": [],
   "source": [
    "import re\n",
    "\n",
    "def create_search_string(terms_list):\n",
    "    # Since terms are already cleaned, just filter out empty/too short terms\n",
    "    filtered_terms = []\n",
    "    \n",
    "    for term in terms_list:\n",
    "        if isinstance(term, str) and term.strip() and len(term.strip()) > 1:\n",
    "            filtered_terms.append(term.strip())\n",
    "    \n",
    "    # Remove duplicates while preserving order\n",
    "    unique_terms = []\n",
    "    for term in filtered_terms:\n",
    "        if term not in unique_terms:\n",
    "            unique_terms.append(term)\n",
    "    \n",
    "    # Format terms - add quotes only for multi-word terms\n",
    "    formatted_terms = []\n",
    "    for term in unique_terms:\n",
    "        if ' ' in term:\n",
    "            formatted_terms.append(f'\"{term}\"')  # Add quotes for multi-word terms\n",
    "        else:\n",
    "            formatted_terms.append(term)  # No quotes for single words\n",
    "    \n",
    "    # Join with OR\n",
    "    search_string = \" OR \".join(formatted_terms)\n",
    "    \n",
    "    return search_string"
   ]
  },
  {
   "cell_type": "code",
   "execution_count": 20,
   "id": "acd43fb9",
   "metadata": {},
   "outputs": [
    {
     "data": {
      "text/html": [
       "<div>\n",
       "<style scoped>\n",
       "    .dataframe tbody tr th:only-of-type {\n",
       "        vertical-align: middle;\n",
       "    }\n",
       "\n",
       "    .dataframe tbody tr th {\n",
       "        vertical-align: top;\n",
       "    }\n",
       "\n",
       "    .dataframe thead th {\n",
       "        text-align: right;\n",
       "    }\n",
       "</style>\n",
       "<table border=\"1\" class=\"dataframe\">\n",
       "  <thead>\n",
       "    <tr style=\"text-align: right;\">\n",
       "      <th></th>\n",
       "      <th>BCODE</th>\n",
       "      <th>Basin_Name</th>\n",
       "      <th>Basin_Specific_Terms</th>\n",
       "      <th>Riparian_country_terms</th>\n",
       "      <th>Terms_updated_2025</th>\n",
       "      <th>Downloaded?</th>\n",
       "    </tr>\n",
       "  </thead>\n",
       "  <tbody>\n",
       "    <tr>\n",
       "      <th>0</th>\n",
       "      <td>ADIG</td>\n",
       "      <td>Adige</td>\n",
       "      <td>Adige</td>\n",
       "      <td>NaN</td>\n",
       "      <td>NaN</td>\n",
       "      <td>NaN</td>\n",
       "    </tr>\n",
       "    <tr>\n",
       "      <th>1</th>\n",
       "      <td>AKPA</td>\n",
       "      <td>Akpa</td>\n",
       "      <td>Akpa OR Akpakorum OR Ebe OR Ikpan OR Akpasang ...</td>\n",
       "      <td>NaN</td>\n",
       "      <td>Y</td>\n",
       "      <td>NaN</td>\n",
       "    </tr>\n",
       "    <tr>\n",
       "      <th>2</th>\n",
       "      <td>ALKL</td>\n",
       "      <td>Alakol</td>\n",
       "      <td>Alakol</td>\n",
       "      <td>NaN</td>\n",
       "      <td>NaN</td>\n",
       "      <td>NaN</td>\n",
       "    </tr>\n",
       "    <tr>\n",
       "      <th>3</th>\n",
       "      <td>ALSK</td>\n",
       "      <td>Alsek</td>\n",
       "      <td>Alsek OR Bates Lake</td>\n",
       "      <td>NaN</td>\n",
       "      <td>NaN</td>\n",
       "      <td>NaN</td>\n",
       "    </tr>\n",
       "    <tr>\n",
       "      <th>4</th>\n",
       "      <td>AMCR</td>\n",
       "      <td>Amacuro</td>\n",
       "      <td>Amacuro OR Yarakita OR Curimataú OR Tocamabo O...</td>\n",
       "      <td>NaN</td>\n",
       "      <td>Y</td>\n",
       "      <td>NaN</td>\n",
       "    </tr>\n",
       "    <tr>\n",
       "      <th>...</th>\n",
       "      <td>...</td>\n",
       "      <td>...</td>\n",
       "      <td>...</td>\n",
       "      <td>...</td>\n",
       "      <td>...</td>\n",
       "      <td>...</td>\n",
       "    </tr>\n",
       "    <tr>\n",
       "      <th>309</th>\n",
       "      <td>ZARM</td>\n",
       "      <td>Zarumilla</td>\n",
       "      <td>Zarumilla OR Chiquita OR \"El Guineo\" OR \"Las L...</td>\n",
       "      <td>NaN</td>\n",
       "      <td>Y</td>\n",
       "      <td>NaN</td>\n",
       "    </tr>\n",
       "    <tr>\n",
       "      <th>310</th>\n",
       "      <td>ALHN</td>\n",
       "      <td>Allahein</td>\n",
       "      <td>Allahein OR Allehein</td>\n",
       "      <td>NaN</td>\n",
       "      <td>Y</td>\n",
       "      <td>NaN</td>\n",
       "    </tr>\n",
       "    <tr>\n",
       "      <th>311</th>\n",
       "      <td>EMSX</td>\n",
       "      <td>Ems</td>\n",
       "      <td>Ems OR Eems OR Westerwoldse Aa OR Dollart OR D...</td>\n",
       "      <td>NaN</td>\n",
       "      <td>NaN</td>\n",
       "      <td>NaN</td>\n",
       "    </tr>\n",
       "    <tr>\n",
       "      <th>312</th>\n",
       "      <td>LOAX</td>\n",
       "      <td>Loa</td>\n",
       "      <td>Loa OR \"San Pedro de Inacaliri\" OR \"San Salvad...</td>\n",
       "      <td>NaN</td>\n",
       "      <td>Y</td>\n",
       "      <td>NaN</td>\n",
       "    </tr>\n",
       "    <tr>\n",
       "      <th>313</th>\n",
       "      <td>GRND</td>\n",
       "      <td>Groundwater</td>\n",
       "      <td>groundwater* OR aquifer* OR \"ground water\" OR ...</td>\n",
       "      <td>NaN</td>\n",
       "      <td>NaN</td>\n",
       "      <td>NaN</td>\n",
       "    </tr>\n",
       "  </tbody>\n",
       "</table>\n",
       "<p>314 rows × 6 columns</p>\n",
       "</div>"
      ],
      "text/plain": [
       "    BCODE   Basin_Name                               Basin_Specific_Terms  \\\n",
       "0    ADIG        Adige                                              Adige   \n",
       "1    AKPA         Akpa  Akpa OR Akpakorum OR Ebe OR Ikpan OR Akpasang ...   \n",
       "2    ALKL       Alakol                                             Alakol   \n",
       "3    ALSK        Alsek                                Alsek OR Bates Lake   \n",
       "4    AMCR      Amacuro  Amacuro OR Yarakita OR Curimataú OR Tocamabo O...   \n",
       "..    ...          ...                                                ...   \n",
       "309  ZARM    Zarumilla  Zarumilla OR Chiquita OR \"El Guineo\" OR \"Las L...   \n",
       "310  ALHN     Allahein                               Allahein OR Allehein   \n",
       "311  EMSX          Ems  Ems OR Eems OR Westerwoldse Aa OR Dollart OR D...   \n",
       "312  LOAX          Loa  Loa OR \"San Pedro de Inacaliri\" OR \"San Salvad...   \n",
       "313  GRND  Groundwater  groundwater* OR aquifer* OR \"ground water\" OR ...   \n",
       "\n",
       "     Riparian_country_terms Terms_updated_2025  Downloaded?  \n",
       "0                       NaN                NaN          NaN  \n",
       "1                       NaN                  Y          NaN  \n",
       "2                       NaN                NaN          NaN  \n",
       "3                       NaN                NaN          NaN  \n",
       "4                       NaN                  Y          NaN  \n",
       "..                      ...                ...          ...  \n",
       "309                     NaN                  Y          NaN  \n",
       "310                     NaN                  Y          NaN  \n",
       "311                     NaN                NaN          NaN  \n",
       "312                     NaN                  Y          NaN  \n",
       "313                     NaN                NaN          NaN  \n",
       "\n",
       "[314 rows x 6 columns]"
      ]
     },
     "execution_count": 20,
     "metadata": {},
     "output_type": "execute_result"
    }
   ],
   "source": [
    "basin_terms"
   ]
  },
  {
   "cell_type": "code",
   "execution_count": 17,
   "id": "0140ce28",
   "metadata": {},
   "outputs": [
    {
     "data": {
      "text/plain": [
       "'Bolivia OR Brazil OR Colombia OR Ecuador OR Guyana OR Peru OR Venezuela'"
      ]
     },
     "execution_count": 17,
     "metadata": {},
     "output_type": "execute_result"
    }
   ],
   "source": [
    "box5_term = create_search_string(riparian_countries_list)\n",
    "box5_term"
   ]
  },
  {
   "cell_type": "code",
   "execution_count": 30,
   "id": "1f7cf0b2",
   "metadata": {},
   "outputs": [],
   "source": [
    "def country_terms_to_df(basin_code):\n",
    "    basin_row = basin_terms[basin_terms['BCODE'] == basin_code.upper()]\n",
    "    basin_terms.loc[basin_row.index, 'Riparian_country_term'] = box5_term\n",
    "    basin_terms.to_excel('basins_searchterms_tracking.xlsx') # I knowwwww I'm not supposed to do it like this but I trust it\n"
   ]
  },
  {
   "cell_type": "code",
   "execution_count": 31,
   "id": "df3f9b7c",
   "metadata": {},
   "outputs": [
    {
     "ename": "IndexError",
     "evalue": "index 0 is out of bounds for axis 0 with size 0",
     "output_type": "error",
     "traceback": [
      "\u001b[31m---------------------------------------------------------------------------\u001b[39m",
      "\u001b[31mIndexError\u001b[39m                                Traceback (most recent call last)",
      "\u001b[36mCell\u001b[39m\u001b[36m \u001b[39m\u001b[32mIn[31]\u001b[39m\u001b[32m, line 3\u001b[39m\n\u001b[32m      1\u001b[39m basins = basin_terms[\u001b[33m'\u001b[39m\u001b[33mBCODE\u001b[39m\u001b[33m'\u001b[39m].unique()\n\u001b[32m      2\u001b[39m \u001b[38;5;28;01mfor\u001b[39;00m basin \u001b[38;5;129;01min\u001b[39;00m basins:\n\u001b[32m----> \u001b[39m\u001b[32m3\u001b[39m     riparian_countries_list = \u001b[43mcreate_country_list\u001b[49m\u001b[43m(\u001b[49m\u001b[43mbasin\u001b[49m\u001b[43m)\u001b[49m \u001b[38;5;66;03m# make a list specific to the basin\u001b[39;00m\n\u001b[32m      4\u001b[39m     box5_term = create_search_string(riparian_countries_list) \u001b[38;5;66;03m# turn it into a search string\u001b[39;00m\n\u001b[32m      5\u001b[39m     country_terms_to_df(basin) \u001b[38;5;66;03m# then plop it in the dataframe\u001b[39;00m\n",
      "\u001b[36mCell\u001b[39m\u001b[36m \u001b[39m\u001b[32mIn[8]\u001b[39m\u001b[32m, line 3\u001b[39m, in \u001b[36mcreate_country_list\u001b[39m\u001b[34m(basin_code)\u001b[39m\n\u001b[32m      1\u001b[39m \u001b[38;5;28;01mdef\u001b[39;00m\u001b[38;5;250m \u001b[39m\u001b[34mcreate_country_list\u001b[39m(basin_code):\n\u001b[32m      2\u001b[39m     riparian_row = riparian_terms[riparian_terms[\u001b[33m'\u001b[39m\u001b[33mBCODE\u001b[39m\u001b[33m'\u001b[39m] == basin_code.upper()]\n\u001b[32m----> \u001b[39m\u001b[32m3\u001b[39m     riparian_countries_string = \u001b[43mriparian_row\u001b[49m\u001b[43m[\u001b[49m\u001b[33;43m'\u001b[39;49m\u001b[33;43mRiparian_C\u001b[39;49m\u001b[33;43m'\u001b[39;49m\u001b[43m]\u001b[49m\u001b[43m.\u001b[49m\u001b[43mvalues\u001b[49m\u001b[43m[\u001b[49m\u001b[32;43m0\u001b[39;49m\u001b[43m]\u001b[49m\n\u001b[32m      4\u001b[39m     riparian_countries_list = riparian_countries_string.split(\u001b[33m'\u001b[39m\u001b[33m, \u001b[39m\u001b[33m'\u001b[39m)\n\u001b[32m      5\u001b[39m     \u001b[38;5;28;01mreturn\u001b[39;00m riparian_countries_list\n",
      "\u001b[31mIndexError\u001b[39m: index 0 is out of bounds for axis 0 with size 0"
     ]
    }
   ],
   "source": [
    "basins = basin_terms['BCODE'].unique()\n",
    "for basin in basins:\n",
    "    riparian_countries_list = create_country_list(basin) # make a list specific to the basin\n",
    "    box5_term = create_search_string(riparian_countries_list) # turn it into a search string\n",
    "    country_terms_to_df(basin) # then plop it in the dataframe\n",
    "    \n"
   ]
  },
  {
   "cell_type": "markdown",
   "id": "1386ac37",
   "metadata": {},
   "source": [
    "so now the riparian country terms are in the terms list again"
   ]
  },
  {
   "cell_type": "code",
   "execution_count": null,
   "id": "928ae838",
   "metadata": {},
   "outputs": [],
   "source": [
    "basin_terms = pd.read_excel('basins_searchterms_tracking.xlsx')"
   ]
  },
  {
   "cell_type": "code",
   "execution_count": 82,
   "metadata": {},
   "outputs": [],
   "source": [
    "# set an example bcode again\n",
    "basin_code = 'AMZN'"
   ]
  },
  {
   "cell_type": "code",
   "execution_count": null,
   "id": "a4cc68eb",
   "metadata": {},
   "outputs": [],
   "source": [
    "\n",
    "def get_riparian_search_string(basin_code):\n",
    "\n",
    "    basin_row = basin_terms[basin_terms['BCODE'] == basin_code.upper()]\n",
    "    basin_specific_term = basin_row['Basin_Specific_Terms'].values[0]\n",
    "    riparian_country_terms = basin_row['Riparian_country_term'].values[0]\n",
    "\n",
    "    box_1_keys = 'water* OR river* OR lake* OR dam* OR stream OR streams OR tributar* OR irrigat* OR flood* OR drought* OR canal* OR hydroelect* OR reservoir* OR groundwater* OR aquifer* OR riparian* OR pond* OR wadi* OR creek* OR oas*s OR spring*'\n",
    "    box_2_keys = 'treaty OR treaties OR agree* OR negotiat* OR mediat* OR resolv* OR facilitat* OR resolution OR commission* OR council* OR dialog* OR meet* OR discuss* OR secretariat* OR manag* OR peace* OR accord OR settle* OR cooperat* OR collaborat* OR diplomacy OR diplomat* OR statement OR \"memo\" OR \"memos\" OR memorand* OR convers* OR convene* OR convention* OR declar* OR allocat*OR share*OR sharing OR apportion* OR distribut* OR ration* OR administ* OR trade* OR trading OR communicat* OR notif* OR trust* OR distrust* OR mistrust*OR support* OR relations* OR consult* OR alliance* OR ally OR allies OR compensat* OR disput* OR conflict* OR disagree* OR sanction* OR war* OR troop* OR skirmish OR hostil* OR attack* OR violen* OR boycott* OR protest* OR clash* OR appeal* OR intent* OR reject* OR threat* OR forc* OR coerc* OR assault* OR fight OR demand* OR disapprov*  OR bomb* OR terror* OR assail* OR insurg* OR counterinsurg* OR destr* OR agitat* OR aggrav* OR veto* OR ban* OR exclud* OR prohibit* OR withdraw* OR suspect* OR combat* OR milit* OR refus* OR deteriorat* OR spurn* OR invad* OR invasion* OR blockad* OR debat* OR refugee* OR migrant* OR violat*'\n",
    "    box_3_keys = basin_specific_term\n",
    "    box_4_keys = 'ocean* OR \"bilge water\" OR \"flood of refugees\" OR waterproof OR “water resistant” OR streaming OR streame*'\n",
    "    box_5_keys = riparian_country_terms\n",
    "\n",
    "    search_string = 'hlead(' + box_1_keys + ') and hlead(' + box_2_keys + ') and hlead(' + box_3_keys + ') and hlead(' + box_5_keys + ') and not hlead(' + box_4_keys + ')'\n",
    "    # want to check it as-is\n",
    "\n",
    "    if len(search_string) < 5000: # to see if it fits our search limit\n",
    "        print(\"search string is within limit\")\n",
    "        return search_string\n",
    "    else:\n",
    "        excess_chars = len(search_string) - 5000 \n",
    "        remove_from_box3 = len(box_3_keys) - excess_chars\n",
    "        print(f\"string is {len(search_string)} characters, need to create a shorter string\")\n",
    "        box3_truncated = basin_specific_term[:remove_from_box3] # trims it to exactly the limit\n",
    "        last_or_pos = box3_truncated.rfind(\" OR \") # finds the nearest 'or'\n",
    "        # update the variable\n",
    "        box_3_keys = basin_specific_term[:last_or_pos] # truncates from there so the final term is a complete one\n",
    "        search_string = 'hlead(' + box_1_keys + ') and hlead(' + box_2_keys + ') and hlead(' + box_3_keys + ') and hlead(' + box_5_keys + ') and not hlead(' + box_4_keys + ')'\n",
    "        print(f\"new search string is {len(search_string)} characters\")\n",
    "        return search_string"
   ]
  },
  {
   "cell_type": "code",
   "execution_count": null,
   "id": "65f28cbf",
   "metadata": {},
   "outputs": [],
   "source": [
    "# write a method here \"truncate_basin_specific\"\n",
    "#return basin_specific_term"
   ]
  },
  {
   "cell_type": "code",
   "execution_count": null,
   "id": "f123977e",
   "metadata": {},
   "outputs": [
    {
     "name": "stdout",
     "output_type": "stream",
     "text": [
      "string is 5070 characters, need to create a shorter string\n",
      "new search string is 4988 characters\n"
     ]
    },
    {
     "data": {
      "text/plain": [
       "'hlead(water* OR river* OR lake* OR dam* OR stream OR streams OR tributar* OR irrigat* OR flood* OR drought* OR canal* OR hydroelect* OR reservoir* OR groundwater* OR aquifer* OR riparian* OR pond* OR wadi* OR creek* OR oas*s OR spring*) and hlead(treaty OR treaties OR agree* OR negotiat* OR mediat* OR resolv* OR facilitat* OR resolution OR commission* OR council* OR dialog* OR meet* OR discuss* OR secretariat* OR manag* OR peace* OR accord OR settle* OR cooperat* OR collaborat* OR diplomacy OR diplomat* OR statement OR \"memo\" OR \"memos\" OR memorand* OR convers* OR convene* OR convention* OR declar* OR allocat*OR share*OR sharing OR apportion* OR distribut* OR ration* OR administ* OR trade* OR trading OR communicat* OR notif* OR trust* OR distrust* OR mistrust*OR support* OR relations* OR consult* OR alliance* OR ally OR allies OR compensat* OR disput* OR conflict* OR disagree* OR sanction* OR war* OR troop* OR skirmish OR hostil* OR attack* OR violen* OR boycott* OR protest* OR clash* OR appeal* OR intent* OR reject* OR threat* OR forc* OR coerc* OR assault* OR fight OR demand* OR disapprov*  OR bomb* OR terror* OR assail* OR insurg* OR counterinsurg* OR destr* OR agitat* OR aggrav* OR veto* OR ban* OR exclud* OR prohibit* OR withdraw* OR suspect* OR combat* OR milit* OR refus* OR deteriorat* OR spurn* OR invad* OR invasion* OR blockad* OR debat* OR refugee* OR migrant* OR violat*) and hlead(Juruá OR Amazon OR Purus OR Putumayo OR Yavarí OR Marañón OR Javari OR Xingu OR Ucayali OR Napo OR Caquetá OR Negro OR Jutaí OR \"Teles Pires\" OR Madeira OR Vaupés OR Caguán OR Jari OR Jandiatuba OR Jatapu OR Apaporis OR Mantaro OR Apurimac OR Urubamba OR Huallaga OR Tefé OR Curaray OR Tapiche OR Paru OR Nanay OR Tigre OR Tapajós OR Pastaza OR Urubu OR Coari OR Jamanxim OR Grande OR Aguarico OR Envira OR Acre OR Mamoré OR Curuçá OR Ituxi OR Trombetas OR Arinos OR Papuri OR Purús OR Iriri OR Ipixuna OR Ituí OR \"dos Marmelos\" OR \"Paru D\\'Oeste\" OR Cuniuá OR Anajás OR Puré OR Uaupés OR Manicoré OR Beni OR Içá OR Yarí OR \"San Miguel\" OR Algodón OR Nhamundá OR Unini OR Maicuru OR Pauini OR Guaporé OR Itenez OR Iténez OR Marié OR Mazán OR Uatumã OR Pachitea OR Aguaytía OR Morona OR Culuene OR Jau OR Atacuari OR Anamu OR \"Cará Paraná\" OR Uneiuxi OR Tamaya OR Crepori OR Pampas OR Tiquié OR Uruará OR Mapuera OR Solimões OR Bóia OR \"Igará Paraná\" OR Jiparaná OR Parauari OR Yaguas OR Mucuim OR Tamboryacu OR Mapari OR Cuiuni OR Roosevelt OR Yuruá OR Chandless OR Acari OR Fresco OR Itaya OR Demini OR Mutum OR Tambo OR lá OR Itilla OR Ampiyacu OR Mamore OR Sucunduri OR \"São Benedito\" OR \"Comandante Fontoura\" OR \"Paru de Este\" OR Paucartambo OR Santiago OR Zamora OR Maniti OR Perené OR \"Ireng River;Rio Maú\" OR Verde OR Ene OR Abuná OR Imabu OR Juami OR Preto OR \"dos Apiacás\" OR Campuya OR Machado OR Oroza OR Tiputini OR Urucu OR Bacajá OR Ipitinga OR Itanhauã OR Jaquirana OR Querari OR Guayas OR Jauaperi OR Juruena OR Utcubamba OR \"de Belém\" OR Branco OR Cotuhé OR Curanja OR Cururu OR Auaris OR Tartaruga OR Macayá OR \"San Alejandro\" OR Yata OR Iaco OR \"Paraná Copeá\" OR Cristalino OR Ronuro OR Cenepa OR Sheshea OR \"Iriri Novo\" OR \"Santa Rosa\" OR Uarini OR Uraricoera OR Cuminapanema OR Padauari OR Pichis OR Tonantins OR Caurés OR Huirima OR Tamshiyacu OR Chanavaquia OR Aripuanã OR Jacaré OR Juçaral OR \"Riozinho da Liberdade\" OR Tunia OR Nieva OR Nushiño OR Cujar OR Huancabamba OR Mamoriá OR Mutumzinho OR \"Preto da Eva\" OR Jutaizinho OR Suiá-Miçu OR Arauá OR Badajós OR Manissauá-Miçu OR Paranaíta OR Mirití-Paraná OR \"Peixoto de Azevedo\" OR Vilcanota OR Camaiurá OR Panya OR \"San Pablo\" OR Cuemaní OR Breu OR Conambo OR Cutivireni OR Maquía OR Maracá-Pucu OR Coca OR Curuá OR \"Das Tropas\" OR Pacaya OR Takutu OR Içana OR Velille OR \"Curuá Una\" OR Unine OR Menuarezinho OR Sepahua OR Xerua OR Rapulo OR Jamari OR Yasuní OR Apayacu OR Meta OR Unilla OR Citaré OR Cushabatay OR Jarauçu OR Macuma OR Mataurá OR Tarauacá OR Cauaburi OR Cuc OR Guanache OR Mapuya OR Pimenta OR \"Furo Castanho\" OR Galvez OR Gregório OR Mizque OR Atininga OR \"Couto de Magalhães\" OR Cuduyarí OR \"Mirití Paraná\" OR \"Paraná Ibicuy\" OR Pardo OR Piraí OR \"del Molino\" OR Auaiá-Miçu OR Biá OR Chinchipe OR \"São Manoel\" OR Arapiuns OR Azul OR Cururu-Açu OR Jatuarana OR Mamorecillo OR Pintoyacu OR Tanguro OR Andirá OR Autaz-Mirim OR Cahuapanas OR Ichu OR Yanatile OR Yubineto OR Abacaxis OR Camanaú OR \"Don Gonzalo\" OR Güepi OR Isiboro OR Matupiri OR \"Alto Beni\" OR Amazonas OR Camisea OR Chorobamba OR Jufarí OR Maratiyacu OR Matapi OR Miuá OR Teani OR Timpia OR Verdeyacu OR Aguaytia OR Caine OR \"Santa María\" OR Aimaraes OR Anipiri OR Culari OR \"Curimatá de Baixo\" OR Parapety OR \"São Sebastião\" OR Tacana OR Cachi OR Eiru OR Ichilo OR Jauaru OR Juruá-Mirim OR Pato OR Payamino) and hlead(Bolivia OR Brazil OR Colombia OR Ecuador OR Guyana OR Peru OR Venezuela) and not hlead(ocean* OR \"bilge water\" OR \"flood of refugees\" OR waterproof OR “water resistant” OR streaming OR streame*)'"
      ]
     },
     "execution_count": 88,
     "metadata": {},
     "output_type": "execute_result"
    }
   ],
   "source": [
    "get_riparian_search_string(basin_code)"
   ]
  },
  {
   "cell_type": "code",
   "execution_count": null,
   "id": "0a1e0f27",
   "metadata": {},
   "outputs": [],
   "source": []
  }
 ],
 "metadata": {
  "kernelspec": {
   "display_name": "venv",
   "language": "python",
   "name": "python3"
  },
  "language_info": {
   "codemirror_mode": {
    "name": "ipython",
    "version": 3
   },
   "file_extension": ".py",
   "mimetype": "text/x-python",
   "name": "python",
   "nbconvert_exporter": "python",
   "pygments_lexer": "ipython3",
   "version": "3.13.0"
  }
 },
 "nbformat": 4,
 "nbformat_minor": 5
}
