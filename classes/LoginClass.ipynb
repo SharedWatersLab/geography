{
 "cells": [
  {
   "cell_type": "code",
   "execution_count": 7,
   "metadata": {},
   "outputs": [],
   "source": [
    "from selenium import webdriver\n",
    "from selenium.webdriver.chrome.service import Service\n",
    "from webdriver_manager.chrome import ChromeDriverManager\n",
    "from selenium.webdriver.common.keys import Keys \n",
    "from selenium.webdriver.common.by import By\n",
    "from selenium.webdriver.chrome.options import Options\n",
    "from selenium.webdriver.support import expected_conditions as EC\n",
    "from selenium.common.exceptions import NoSuchElementException\n",
    "from selenium.webdriver.common.action_chains import ActionChains\n",
    "from selenium.webdriver.support.wait import WebDriverWait\n",
    "from selenium.webdriver.common.desired_capabilities import DesiredCapabilities\n",
    "from selenium.common.exceptions import ElementNotInteractableException\n",
    "\n",
    "from chromedriver_py import binary_path  \n",
    "\n",
    "import os\n",
    "import sys\n",
    "import pandas as pd\n",
    "import time\n",
    "\n",
    "options = Options()\n",
    "options.page_load_strategy = 'normal'\n",
    "options.add_argument(\"--start-maximized\")\n",
    "\n",
    "#options.add_argument(\"user-data-dir=Users/<username>/Library/Application Support/Google/Chrome/Default\")\n",
    "#prefs = {'download.default_directory' : '/Users/dvas22/Desktop/David/www/geography/downloads'}\n",
    "options.add_argument(\"user-data-dir=/tmp/storedLoginInformation9\")\n",
    "prefs = {'download.prompt_for_download' : False}\n",
    "options.add_experimental_option('prefs', prefs)\n",
    "\n",
    "service = Service()\n",
    "\n",
    "driver = webdriver.Chrome(service=Service(ChromeDriverManager().install()), options=options)\n"
   ]
  },
  {
   "cell_type": "code",
   "execution_count": 2,
   "metadata": {},
   "outputs": [],
   "source": [
    "import getpass\n",
    "\n",
    "class PasswordManager:\n",
    "    def __init__(self):\n",
    "        # Initialize the password attribute to None\n",
    "        self.password = None\n",
    "\n",
    "    def get_password(self):\n",
    "        # Check if the password is already set\n",
    "        if self.password is None:\n",
    "            # Prompt for the password and store it\n",
    "            self.password = getpass.getpass()\n",
    "        # Return the stored password\n",
    "        return self.password"
   ]
  },
  {
   "cell_type": "code",
   "execution_count": 3,
   "metadata": {},
   "outputs": [
    {
     "name": "stdout",
     "output_type": "stream",
     "text": [
      "Password set!\n"
     ]
    }
   ],
   "source": [
    "# Create an instance of PasswordManager\n",
    "pm = PasswordManager()\n",
    "\n",
    "# Retrieve the password (this will prompt for the password only the first time)\n",
    "password = pm.get_password()\n",
    "\n",
    "print(\"Password set!\")"
   ]
  },
  {
   "cell_type": "code",
   "execution_count": 10,
   "metadata": {},
   "outputs": [],
   "source": [
    "class Login:\n",
    "    def __init__(self, user_name, password, driver: webdriver, timeout=20, url=None):\n",
    "        self.driver = driver\n",
    "        self.user_name = user_name\n",
    "        self.password = password\n",
    "        self.url = url\n",
    "        self.timeout = timeout\n",
    "\n",
    "    def _click_from_css(self, css_selector):\n",
    "        element = WebDriverWait(self.driver, self.timeout).until(\n",
    "            EC.presence_of_element_located((By.CSS_SELECTOR, css_selector))\n",
    "        )\n",
    "        element.click()\n",
    "    \n",
    "    def _send_keys_from_css(self, css_selector, keys):\n",
    "        element = WebDriverWait(self.driver, self.timeout).until(\n",
    "            EC.presence_of_element_located((By.CSS_SELECTOR, css_selector))\n",
    "        )\n",
    "        element.send_keys(keys)\n",
    "\n",
    "    def _init_login(self):\n",
    "        print(\"Logging in user with userName \" + self.user_name)\n",
    "        self.driver.get(self.url or \"https://login.ezproxy.library.tufts.edu/login?auth=tufts&url=http://www.nexisuni.com\")\n",
    "        self._click_from_css(\".btn-shib > .login\")\n",
    "        #driver.find_element(By.ID, \"username\").send_keys(self.user_name)\n",
    "        self._send_keys_from_css(\"#username\", self.user_name)  # Using ID selector\n",
    "        #driver.find_element(By.ID, \"password\").send_keys(password)\n",
    "        self._send_keys_from_css(\"#password\", self.password)   # Using ID selector\n",
    "        #driver.find_element(By.NAME, \"_eventId_proceed\").click()\n",
    "        self._click_from_css(\"#login > button\")\n",
    "\n",
    "        #in case update chrome page comes up\n",
    "        update_chrome_substring = \"https://api-58712eef.duosecurity.com/frame/frameless/v4/auth?sid=frameless-\"\n",
    "        if update_chrome_substring in driver.current_url:\n",
    "            self._click_from_css(\"body > div > div > div > div.display-flex.flex-direction-column.flex-value-one.size-padding-left-large.size-padding-right-large > div > button\")\n",
    "        else:\n",
    "            pass\n",
    "\n",
    "        duo_page_substring = \"https://api-58712eef.duosecurity.com/frame/v4/auth/prompt?sid=frameless-\"\n",
    "        if duo_page_substring in driver.current_url:\n",
    "            time.sleep(10)\n",
    "        else:\n",
    "            pass\n",
    "\n",
    "\n",
    "\n",
    "        #in case trust browser page comes up\n",
    "        trust_browser_substring = \"https://api-58712eef.duosecurity.com/frame/v4/auth/prompt?sid=frameless-\"\n",
    "        if trust_browser_substring in driver.current_url :\n",
    "            self._click_from_css(\"#trust-browser-button\")\n",
    "            \n",
    "        else:\n",
    "            pass"
   ]
  },
  {
   "cell_type": "code",
   "execution_count": 11,
   "metadata": {},
   "outputs": [
    {
     "name": "stdout",
     "output_type": "stream",
     "text": [
      "selena\n",
      "False\n",
      "Logging in user with userName swalla05\n"
     ]
    },
    {
     "ename": "TimeoutException",
     "evalue": "Message: \nStacktrace:\n0   chromedriver                        0x00000001098df0e8 chromedriver + 5169384\n1   chromedriver                        0x00000001098d6fba chromedriver + 5136314\n2   chromedriver                        0x000000010945336c chromedriver + 402284\n3   chromedriver                        0x00000001094a0740 chromedriver + 718656\n4   chromedriver                        0x00000001094a0a01 chromedriver + 719361\n5   chromedriver                        0x00000001094e5bc4 chromedriver + 1002436\n6   chromedriver                        0x00000001094c3add chromedriver + 862941\n7   chromedriver                        0x00000001094e2f57 chromedriver + 991063\n8   chromedriver                        0x00000001094c3853 chromedriver + 862291\n9   chromedriver                        0x00000001094935c6 chromedriver + 665030\n10  chromedriver                        0x0000000109493e4e chromedriver + 667214\n11  chromedriver                        0x00000001098a1d00 chromedriver + 4918528\n12  chromedriver                        0x00000001098a6cfd chromedriver + 4939005\n13  chromedriver                        0x00000001098a73d5 chromedriver + 4940757\n14  chromedriver                        0x0000000109882de4 chromedriver + 4791780\n15  chromedriver                        0x00000001098a76c9 chromedriver + 4941513\n16  chromedriver                        0x00000001098745b4 chromedriver + 4732340\n17  chromedriver                        0x00000001098c7898 chromedriver + 5073048\n18  chromedriver                        0x00000001098c7a57 chromedriver + 5073495\n19  chromedriver                        0x00000001098d6b6e chromedriver + 5135214\n20  libsystem_pthread.dylib             0x00007ff8129aa4e1 _pthread_start + 125\n21  libsystem_pthread.dylib             0x00007ff8129a5f6b thread_start + 15\n",
     "output_type": "error",
     "traceback": [
      "\u001b[0;31m---------------------------------------------------------------------------\u001b[0m",
      "\u001b[0;31mTimeoutException\u001b[0m                          Traceback (most recent call last)",
      "Input \u001b[0;32mIn [11]\u001b[0m, in \u001b[0;36m<cell line: 31>\u001b[0;34m()\u001b[0m\n\u001b[1;32m     29\u001b[0m \u001b[38;5;66;03m#instantiate init login\u001b[39;00m\n\u001b[1;32m     30\u001b[0m login \u001b[38;5;241m=\u001b[39m Login(user_name \u001b[38;5;241m=\u001b[39m user_name, password\u001b[38;5;241m=\u001b[39mpassword, driver\u001b[38;5;241m=\u001b[39mdriver)\n\u001b[0;32m---> 31\u001b[0m \u001b[43mlogin\u001b[49m\u001b[38;5;241;43m.\u001b[39;49m\u001b[43m_init_login\u001b[49m\u001b[43m(\u001b[49m\u001b[43m)\u001b[49m\n",
      "Input \u001b[0;32mIn [10]\u001b[0m, in \u001b[0;36mLogin._init_login\u001b[0;34m(self)\u001b[0m\n\u001b[1;32m     22\u001b[0m \u001b[38;5;28mprint\u001b[39m(\u001b[38;5;124m\"\u001b[39m\u001b[38;5;124mLogging in user with userName \u001b[39m\u001b[38;5;124m\"\u001b[39m \u001b[38;5;241m+\u001b[39m \u001b[38;5;28mself\u001b[39m\u001b[38;5;241m.\u001b[39muser_name)\n\u001b[1;32m     23\u001b[0m \u001b[38;5;28mself\u001b[39m\u001b[38;5;241m.\u001b[39mdriver\u001b[38;5;241m.\u001b[39mget(\u001b[38;5;28mself\u001b[39m\u001b[38;5;241m.\u001b[39murl \u001b[38;5;129;01mor\u001b[39;00m \u001b[38;5;124m\"\u001b[39m\u001b[38;5;124mhttps://login.ezproxy.library.tufts.edu/login?auth=tufts&url=http://www.nexisuni.com\u001b[39m\u001b[38;5;124m\"\u001b[39m)\n\u001b[0;32m---> 24\u001b[0m \u001b[38;5;28;43mself\u001b[39;49m\u001b[38;5;241;43m.\u001b[39;49m\u001b[43m_click_from_css\u001b[49m\u001b[43m(\u001b[49m\u001b[38;5;124;43m\"\u001b[39;49m\u001b[38;5;124;43m.btn-shib > .login\u001b[39;49m\u001b[38;5;124;43m\"\u001b[39;49m\u001b[43m)\u001b[49m\n\u001b[1;32m     25\u001b[0m \u001b[38;5;66;03m#driver.find_element(By.ID, \"username\").send_keys(self.user_name)\u001b[39;00m\n\u001b[1;32m     26\u001b[0m \u001b[38;5;28mself\u001b[39m\u001b[38;5;241m.\u001b[39m_send_keys_from_css(\u001b[38;5;124m\"\u001b[39m\u001b[38;5;124m#username\u001b[39m\u001b[38;5;124m\"\u001b[39m, \u001b[38;5;28mself\u001b[39m\u001b[38;5;241m.\u001b[39muser_name)  \u001b[38;5;66;03m# Using ID selector\u001b[39;00m\n",
      "Input \u001b[0;32mIn [10]\u001b[0m, in \u001b[0;36mLogin._click_from_css\u001b[0;34m(self, css_selector)\u001b[0m\n\u001b[1;32m      9\u001b[0m \u001b[38;5;28;01mdef\u001b[39;00m \u001b[38;5;21m_click_from_css\u001b[39m(\u001b[38;5;28mself\u001b[39m, css_selector):\n\u001b[0;32m---> 10\u001b[0m     element \u001b[38;5;241m=\u001b[39m \u001b[43mWebDriverWait\u001b[49m\u001b[43m(\u001b[49m\u001b[38;5;28;43mself\u001b[39;49m\u001b[38;5;241;43m.\u001b[39;49m\u001b[43mdriver\u001b[49m\u001b[43m,\u001b[49m\u001b[43m \u001b[49m\u001b[38;5;28;43mself\u001b[39;49m\u001b[38;5;241;43m.\u001b[39;49m\u001b[43mtimeout\u001b[49m\u001b[43m)\u001b[49m\u001b[38;5;241;43m.\u001b[39;49m\u001b[43muntil\u001b[49m\u001b[43m(\u001b[49m\n\u001b[1;32m     11\u001b[0m \u001b[43m        \u001b[49m\u001b[43mEC\u001b[49m\u001b[38;5;241;43m.\u001b[39;49m\u001b[43mpresence_of_element_located\u001b[49m\u001b[43m(\u001b[49m\u001b[43m(\u001b[49m\u001b[43mBy\u001b[49m\u001b[38;5;241;43m.\u001b[39;49m\u001b[43mCSS_SELECTOR\u001b[49m\u001b[43m,\u001b[49m\u001b[43m \u001b[49m\u001b[43mcss_selector\u001b[49m\u001b[43m)\u001b[49m\u001b[43m)\u001b[49m\n\u001b[1;32m     12\u001b[0m \u001b[43m    \u001b[49m\u001b[43m)\u001b[49m\n\u001b[1;32m     13\u001b[0m     element\u001b[38;5;241m.\u001b[39mclick()\n",
      "File \u001b[0;32m~/miniconda3/envs/ds_env2/lib/python3.10/site-packages/selenium/webdriver/support/wait.py:95\u001b[0m, in \u001b[0;36mWebDriverWait.until\u001b[0;34m(self, method, message)\u001b[0m\n\u001b[1;32m     93\u001b[0m     \u001b[38;5;28;01mif\u001b[39;00m time\u001b[38;5;241m.\u001b[39mmonotonic() \u001b[38;5;241m>\u001b[39m end_time:\n\u001b[1;32m     94\u001b[0m         \u001b[38;5;28;01mbreak\u001b[39;00m\n\u001b[0;32m---> 95\u001b[0m \u001b[38;5;28;01mraise\u001b[39;00m TimeoutException(message, screen, stacktrace)\n",
      "\u001b[0;31mTimeoutException\u001b[0m: Message: \nStacktrace:\n0   chromedriver                        0x00000001098df0e8 chromedriver + 5169384\n1   chromedriver                        0x00000001098d6fba chromedriver + 5136314\n2   chromedriver                        0x000000010945336c chromedriver + 402284\n3   chromedriver                        0x00000001094a0740 chromedriver + 718656\n4   chromedriver                        0x00000001094a0a01 chromedriver + 719361\n5   chromedriver                        0x00000001094e5bc4 chromedriver + 1002436\n6   chromedriver                        0x00000001094c3add chromedriver + 862941\n7   chromedriver                        0x00000001094e2f57 chromedriver + 991063\n8   chromedriver                        0x00000001094c3853 chromedriver + 862291\n9   chromedriver                        0x00000001094935c6 chromedriver + 665030\n10  chromedriver                        0x0000000109493e4e chromedriver + 667214\n11  chromedriver                        0x00000001098a1d00 chromedriver + 4918528\n12  chromedriver                        0x00000001098a6cfd chromedriver + 4939005\n13  chromedriver                        0x00000001098a73d5 chromedriver + 4940757\n14  chromedriver                        0x0000000109882de4 chromedriver + 4791780\n15  chromedriver                        0x00000001098a76c9 chromedriver + 4941513\n16  chromedriver                        0x00000001098745b4 chromedriver + 4732340\n17  chromedriver                        0x00000001098c7898 chromedriver + 5073048\n18  chromedriver                        0x00000001098c7a57 chromedriver + 5073495\n19  chromedriver                        0x00000001098d6b6e chromedriver + 5135214\n20  libsystem_pthread.dylib             0x00007ff8129aa4e1 _pthread_start + 125\n21  libsystem_pthread.dylib             0x00007ff8129a5f6b thread_start + 15\n"
     ]
    }
   ],
   "source": [
    "from UserClass import UserClass\n",
    "from BasinClass import BasinClass\n",
    "# in the main code this'll need to be\n",
    "#from classes.UserClass import UserClass\n",
    "#from classes.BasinClass import BasinClass\n",
    "# and then obviously\n",
    "#from classes.LoginClass import Login\n",
    "#but we're in classes right now I guess\n",
    "\n",
    "#USER INFORMATION: User and Basin Information Setup (sSet this for yourself and the current basin)\n",
    "external_user = False\n",
    "basin_code = \"tigr\" \n",
    "master_user = \"selena\"\n",
    "\n",
    "#file paths for user\n",
    "currentUser = UserClass(basin_code, master_user, external_user)\n",
    "currentBasin = BasinClass(basin_code, external_user)\n",
    "\n",
    "currentUser.getName()\n",
    "paths = currentUser.getPath(\"excel\")\n",
    "\n",
    "#Base Paths \n",
    "user_name = paths[\"user_name\"]\n",
    "geography_folder = paths[\"geography_folder\"]\n",
    "download_folder_temp = paths[\"download_folder_temp\"]\n",
    "download_folder = paths[\"download_folder\"]\n",
    "status_file = paths[\"status_file\"]\n",
    "\n",
    "#instantiate init login\n",
    "login = Login(user_name = user_name, password=password, driver=driver)\n",
    "login._init_login()"
   ]
  },
  {
   "cell_type": "code",
   "execution_count": null,
   "metadata": {},
   "outputs": [],
   "source": [
    "loggedin_home = 'https://advance-lexis-com.ezproxy.library.tufts.edu/bisacademicresearchhome?crid=e5e7e934-8a58-412b-9dec-92110d041a25&pdmfid=1516831&pdisurlapi=true'\n",
    "driver.get(loggedin_home)\n",
    "# could add something here that like looks for the URL page \n",
    "#currentURL\n",
    "error404_substring = ''\n",
    "if error404_substring in driver.current_url:\n",
    "    # reset login\n",
    "else:\n",
    "    pass\n",
    "# or tests whether there's a 404"
   ]
  }
 ],
 "metadata": {
  "kernelspec": {
   "display_name": "ds_env2",
   "language": "python",
   "name": "python3"
  },
  "language_info": {
   "codemirror_mode": {
    "name": "ipython",
    "version": 3
   },
   "file_extension": ".py",
   "mimetype": "text/x-python",
   "name": "python",
   "nbconvert_exporter": "python",
   "pygments_lexer": "ipython3",
   "version": "3.10.13"
  }
 },
 "nbformat": 4,
 "nbformat_minor": 2
}
