{
 "cells": [
  {
   "cell_type": "code",
   "execution_count": 5,
   "metadata": {},
   "outputs": [],
   "source": [
    "from geography.classes.UserClass import UserClass\n",
    "from geography.classes.BasinClass import BasinClass\n",
    "\n",
    "import pandas as pd #(already in FullProcessExample.ipynb)\n",
    "import time"
   ]
  },
  {
   "cell_type": "code",
   "execution_count": 7,
   "metadata": {},
   "outputs": [
    {
     "name": "stdout",
     "output_type": "stream",
     "text": [
      "selena\n",
      "False\n",
      "get_basin_path called\n"
     ]
    }
   ],
   "source": [
    "#USER INFORMATION: User and Basin Information Setup (CLIENT: Set this for yourself and the current basin)\n",
    "external_user = False\n",
    "basin_code = \"tigr\" \n",
    "master_user = \"selena\"\n",
    "\n",
    "#PART 2: File Paths for each user\n",
    "currentUser = UserClass(basin_code, master_user, external_user)\n",
    "currentBasin = BasinClass(basin_code, external_user)\n",
    "\n",
    "currentUser.getName()\n",
    "paths = currentUser.getPath(\"excel\")\n",
    "\n",
    "#Base Paths \n",
    "user_name = paths[\"user_name\"]\n",
    "geography_folder = paths[\"geography_folder\"]\n",
    "download_folder_temp = paths[\"download_folder_temp\"]\n",
    "download_folder = paths[\"download_folder\"]\n",
    "status_file = paths[\"status_file\"]\n",
    "\n",
    "#Search Link\n",
    "search_link = currentBasin.get_basin_path()\n",
    "\n",
    "#Set Basin Status CSV File \n",
    "status_data = pd.read_csv(status_file, index_col=0)"
   ]
  },
  {
   "cell_type": "markdown",
   "metadata": {},
   "source": [
    "# the section below\n",
    "- defines the status sheet as source of date and download status\n",
    "- and uses download status to govern whether to start to download process"
   ]
  },
  {
   "cell_type": "code",
   "execution_count": 8,
   "metadata": {},
   "outputs": [],
   "source": [
    "#Single Basin Search\n",
    "def single_basin_search():\n",
    "    print(\"MAIN: Starting a single basin search for \", basin_code)\n",
    "    \n",
    "    for index, row in status_data.iterrows():\n",
    "        #basin = row['Basin_Name']\n",
    "        basin = row['BCODE'] \n",
    "        start_date = row['start_date']\n",
    "        end_date = row['end_date']\n",
    "        finished = row['finished']\n",
    "\n",
    "        if finished == 2:\n",
    "             print(basin_code, \" is done!\")\n",
    "             time.sleep(1)\n",
    "             quit()\n",
    "\n",
    "        if finished != 1:\n",
    "\n",
    "            #STEP 1: Base Search \n",
    "            base_search()\n",
    "\n",
    "            #STEP 2: Set Date Range\n",
    "            change_date(search_link, start_date, end_date)\n",
    "\n",
    "            #STEP 3: Group Duplicates\n",
    "            group_duplicates()\n",
    "\n",
    "            #STEP 4: Set Sort by to Date (oldest to Newest)\n",
    "            set_sort_by_date()\n",
    "\n",
    "            #STEP 5: Get Current Result Count\n",
    "            result_count = get_result_count()\n",
    "            result_count_int = int(result_count)\n",
    "\n",
    "            if result_count_int < 1000:\n",
    "\n",
    "                #STEP 6: Download Excel \n",
    "                download_outcome = download_excel(basin_code, 1, result_count)\n",
    "\n",
    "                #STEP 7: Mark complete\n",
    "                if download_outcome == True:\n",
    "                    file_min = \"result_min_1\" + \"_\"\n",
    "                    file_max = \"result_max_\" + result_count + \"_\"\n",
    "                    file_start_date = \"start_date_\" + start_date + \"_\"\n",
    "                    file_end_date = \"end_date_\" + end_date\n",
    "                    \n",
    "                    final_file_name = \"ResultsList_\" + basin_code + \"_202207_\" + file_min + file_max + file_start_date + file_end_date\n",
    "\n",
    "                    update_status_success(index, result_count, final_file_name)\n",
    "                else: \n",
    "                    update_status_failure(index, result_count)\n",
    "\n",
    "                print(\"MAIN: Finished the Basin\")\n",
    "                time.sleep(12)\n",
    "\n",
    "            else: \n",
    "                update_status_over_limit(index, result_count)\n",
    "\n",
    "        else:     \n",
    "            print(\"The basin \", basin, \" from \", start_date, \" to \", end_date, \" is already done so we are skipping\")\n",
    "            time.sleep(1)"
   ]
  },
  {
   "cell_type": "code",
   "execution_count": null,
   "metadata": {},
   "outputs": [],
   "source": []
  }
 ],
 "metadata": {
  "kernelspec": {
   "display_name": "ds_env2",
   "language": "python",
   "name": "python3"
  },
  "language_info": {
   "codemirror_mode": {
    "name": "ipython",
    "version": 3
   },
   "file_extension": ".py",
   "mimetype": "text/x-python",
   "name": "python",
   "nbconvert_exporter": "python",
   "pygments_lexer": "ipython3",
   "version": "3.10.13"
  }
 },
 "nbformat": 4,
 "nbformat_minor": 2
}
