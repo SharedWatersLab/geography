{
 "cells": [
  {
   "cell_type": "code",
   "execution_count": 1,
   "metadata": {},
   "outputs": [],
   "source": [
    "from selenium import webdriver\n",
    "from selenium.webdriver.chrome.service import Service\n",
    "from webdriver_manager.chrome import ChromeDriverManager\n",
    "from selenium.webdriver.common.keys import Keys \n",
    "from selenium.webdriver.common.by import By\n",
    "from selenium.webdriver.chrome.options import Options\n",
    "from selenium.webdriver.support import expected_conditions as EC\n",
    "from selenium.common.exceptions import NoSuchElementException\n",
    "from selenium.webdriver.common.action_chains import ActionChains\n",
    "from selenium.webdriver.support.wait import WebDriverWait\n",
    "from selenium.webdriver.common.desired_capabilities import DesiredCapabilities\n",
    "from selenium.common.exceptions import ElementNotInteractableException\n",
    "from chromedriver_py import binary_path  \n",
    "\n",
    "import os\n",
    "import sys\n",
    "import pandas as pd\n",
    "import time\n",
    "\n",
    "options = Options()\n",
    "options.page_load_strategy = 'normal'\n",
    "options.add_argument(\"--start-maximized\")\n",
    "\n",
    "#options.add_argument(\"user-data-dir=Users/<username>/Library/Application Support/Google/Chrome/Default\")\n",
    "#prefs = {'download.default_directory' : '/Users/dvas22/Desktop/David/www/geography/downloads'}\n",
    "options.add_argument(\"user-data-dir=/tmp/storedLoginInformation3\")\n",
    "prefs = {'download.prompt_for_download' : False}\n",
    "options.add_experimental_option('prefs', prefs)\n",
    "\n",
    "service = Service()\n",
    "\n",
    "driver = webdriver.Chrome(service=Service(ChromeDriverManager().install()), options=options)"
   ]
  },
  {
   "cell_type": "code",
   "execution_count": 2,
   "metadata": {},
   "outputs": [
    {
     "name": "stdout",
     "output_type": "stream",
     "text": [
      "Logging in user with userName swalla05\n",
      "Logged In trust-browser-button\n"
     ]
    }
   ],
   "source": [
    "def login_tufts_user(user_name):\n",
    "    time.sleep(3)\n",
    "    print(\"Logging in user with userName \" + user_name)\n",
    "    driver.get(\"https://login.ezproxy.library.tufts.edu/login?auth=tufts&url=http://www.nexisuni.com\")\n",
    "    time.sleep(3)\n",
    "    driver.find_element(By.CSS_SELECTOR, \".btn-shib > .login\").click()\n",
    "    time.sleep(3)\n",
    "    driver.find_element(By.ID, \"username\").send_keys(user_name)\n",
    "    driver.find_element(By.ID, \"password\").send_keys(\"\")\n",
    "\n",
    "    #Wait for user to manually put in user name 60 seconds\n",
    "    time.sleep(5)\n",
    "    try:\n",
    "        driver.find_element(By.NAME, \"_eventId_proceed\").click()\n",
    "        time.sleep(5)\n",
    "    except NoSuchElementException:  \n",
    "        print(\"Logged In _eventId_proceed\")\n",
    "\n",
    "    try:\n",
    "        driver.find_element(By.ID, \"trust-browser-button\").click()\n",
    "        time.sleep(5)\n",
    "    except NoSuchElementException:  \n",
    "        print(\"Logged In trust-browser-button\")\n",
    "    time.sleep(5)\n",
    "\n",
    "    return driver\n",
    "\n",
    "from classes.NoLinkClass import NoLinkClass\n",
    "\n",
    "driver = login_tufts_user('swalla05')\n",
    "search_term = 'Tigris'\n",
    "nlc = NoLinkClass(driver, search_term)"
   ]
  },
  {
   "cell_type": "code",
   "execution_count": 3,
   "metadata": {},
   "outputs": [
    {
     "name": "stdout",
     "output_type": "stream",
     "text": [
      "Search Term: Tigris\n"
     ]
    },
    {
     "name": "stdout",
     "output_type": "stream",
     "text": [
      "Initializing search with driver: <selenium.webdriver.chrome.webdriver.WebDriver (session=\"3c1a4f900b4868a223418249372165a5\")> and search term: Tigris\n"
     ]
    }
   ],
   "source": [
    "nlc = NoLinkClass(driver, search_term)\n",
    "nlc.get_search_term()\n",
    "nlc._init_search()"
   ]
  },
  {
   "cell_type": "code",
   "execution_count": null,
   "metadata": {},
   "outputs": [],
   "source": [
    "#would like to experiment with this cell above, how to get nlc to work with a variable in main.py\n",
    "#and seomthing in __init__() being a link to the tracking sheet with search terms"
   ]
  },
  {
   "cell_type": "code",
   "execution_count": 4,
   "metadata": {},
   "outputs": [],
   "source": [
    "nlc._box_1()\n",
    "nlc._box_2()\n",
    "nlc._box_3()\n",
    "nlc._box_4()\n",
    "nlc.complete_search()"
   ]
  },
  {
   "cell_type": "code",
   "execution_count": null,
   "metadata": {},
   "outputs": [
    {
     "data": {
      "text/plain": [
       "['By',\n",
       " 'EC',\n",
       " 'NoLinkClass',\n",
       " 'WebDriverWait',\n",
       " '__builtins__',\n",
       " '__cached__',\n",
       " '__doc__',\n",
       " '__file__',\n",
       " '__loader__',\n",
       " '__name__',\n",
       " '__package__',\n",
       " '__spec__',\n",
       " 'basin_code',\n",
       " 'pd',\n",
       " 'webdriver']"
      ]
     },
     "execution_count": 7,
     "metadata": {},
     "output_type": "execute_result"
    }
   ],
   "source": [
    "driver\n",
    "dir(NoLinkClass)"
   ]
  }
 ],
 "metadata": {
  "kernelspec": {
   "display_name": "ds_env2",
   "language": "python",
   "name": "python3"
  },
  "language_info": {
   "codemirror_mode": {
    "name": "ipython",
    "version": 3
   },
   "file_extension": ".py",
   "mimetype": "text/x-python",
   "name": "python",
   "nbconvert_exporter": "python",
   "pygments_lexer": "ipython3",
   "version": "3.10.13"
  }
 },
 "nbformat": 4,
 "nbformat_minor": 2
}
